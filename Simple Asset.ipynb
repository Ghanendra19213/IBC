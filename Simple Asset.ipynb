{
 "cells": [
  {
   "cell_type": "markdown",
   "id": "tough-western",
   "metadata": {},
   "source": [
    "## Simple Assets"
   ]
  },
  {
   "cell_type": "markdown",
   "id": "clear-links",
   "metadata": {},
   "source": [
    "### Store and Retrive Cryptocurrencies values as assets"
   ]
  },
  {
   "cell_type": "code",
   "execution_count": 1,
   "id": "completed-anthony",
   "metadata": {},
   "outputs": [
    {
     "name": "stderr",
     "output_type": "stream",
     "text": [
      "Init client with profile=test/fixtures/network.json\n",
      "create org with name=orderer.example.com\n",
      "create org with name=org1.example.com\n",
      "create org with name=org2.example.com\n",
      "create ca with name=ca-org1\n",
      "create ca with name=ca-org2\n",
      "Import orderers = dict_keys(['orderer.example.com'])\n",
      "Import peers = dict_keys(['peer0.org1.example.com', 'peer1.org1.example.com', 'peer0.org2.example.com', 'peer1.org2.example.com'])\n",
      "FABRIC_CFG_PATH set to /home/ghanendra/fabric-sdk-py/test/fixtures/e2e_cli/\n"
     ]
    },
    {
     "name": "stdout",
     "output_type": "stream",
     "text": [
      "{'orderer.example.com': <hfc.fabric.organization.Organization object at 0x7fe5a4058ca0>, 'org1.example.com': <hfc.fabric.organization.Organization object at 0x7fe584d50070>, 'org2.example.com': <hfc.fabric.organization.Organization object at 0x7fe584d503d0>}\n",
      "{'peer0.org1.example.com': <hfc.fabric.peer.Peer object at 0x7fe584d50bb0>, 'peer1.org1.example.com': <hfc.fabric.peer.Peer object at 0x7fe584d50ac0>, 'peer0.org2.example.com': <hfc.fabric.peer.Peer object at 0x7fe584d50be0>, 'peer1.org2.example.com': <hfc.fabric.peer.Peer object at 0x7fe584cd5c10>}\n",
      "{'orderer.example.com': <hfc.fabric.orderer.Orderer object at 0x7fe584d50880>}\n",
      "{'ca-org1': <hfc.fabric.certificateAuthority.certificateAuthority object at 0x7fe584d50700>, 'ca-org2': <hfc.fabric.certificateAuthority.certificateAuthority object at 0x7fe5a50dd9a0>}\n"
     ]
    },
    {
     "name": "stderr",
     "output_type": "stream",
     "text": [
      "Configtx file successfully created in current             directory\n",
      "{'tx_id': 'f06715f6573739fa421e3feba6896e5bb941a437724c420a485940939f691afc', 'nonce': b'\\xd2p\\xb9R\\x8c\\xdf\\x02P\\xfc{|\\xe0\\xed\\xbb\\xd4q\\xf1\\xb7-\\xe5\\xb1S\\xba\\xaf', 'signatures': [b'\\n\\xd3\\x06\\n\\xb6\\x06\\n\\x07Org1MSP\\x12\\xaa\\x06-----BEGIN CERTIFICATE-----\\nMIICKjCCAdCgAwIBAgIQEn3uLYlL4sXXQBS1/k8u7zAKBggqhkjOPQQDAjBzMQsw\\nCQYDVQQGEwJVUzETMBEGA1UECBMKQ2FsaWZvcm5pYTEWMBQGA1UEBxMNU2FuIEZy\\nYW5jaXNjbzEZMBcGA1UEChMQb3JnMS5leGFtcGxlLmNvbTEcMBoGA1UEAxMTY2Eu\\nb3JnMS5leGFtcGxlLmNvbTAeFw0xODEwMTkwMzQ4MDBaFw0yODEwMTYwMzQ4MDBa\\nMGwxCzAJBgNVBAYTAlVTMRMwEQYDVQQIEwpDYWxpZm9ybmlhMRYwFAYDVQQHEw1T\\nYW4gRnJhbmNpc2NvMQ8wDQYDVQQLEwZjbGllbnQxHzAdBgNVBAMMFkFkbWluQG9y\\nZzEuZXhhbXBsZS5jb20wWTATBgcqhkjOPQIBBggqhkjOPQMBBwNCAAR2zFPDBYIy\\njZSXaB15ILW9MRUYkSiksD6Io+VBbsJex2S7Do7lJhYfpyg5Z1LEHLCQgHH/VJ1F\\nMZmNHgIIHqWPo00wSzAOBgNVHQ8BAf8EBAMCB4AwDAYDVR0TAQH/BAIwADArBgNV\\nHSMEJDAigCBrrGAVZjePzZuDxouWmQ1BrbUVMmQN6w6E+DzsHViX0jAKBggqhkjO\\nPQQDAgNIADBFAiEA0FGz0YuvjPaKGy0h7+AUGJ+02O78VIIJx3wX1SL0ODMCIHSN\\nDX1FwttwXOkNiLBOi9sz04bOXz6ALO0xXtZCE4pi\\n-----END CERTIFICATE-----\\n\\x12\\x18\\xd2p\\xb9R\\x8c\\xdf\\x02P\\xfc{|\\xe0\\xed\\xbb\\xd4q\\xf1\\xb7-\\xe5\\xb1S\\xba\\xaf\\x12G0E\\x02!\\x00\\xbbMh\\xc3\\xdd\\xd4#\\xca\\xd4\\x1e\\xf1\\xce\\x98\\xf1\\xc6F\\x8d\\xfa\\xfb\\xc2,\\xac\\x83lJ!83I\\x1c\\xd8\\xa5\\x02 (\\x87\\x06*\\x9a\\x93@\\xd7\\xa3VWFX\\x10X4\\t\\x0f\\xd3,|^\\x8a\\x00\\xbc\\xde+I\\x13\\xc6\\xf0t'], 'config': b'\\n\\x0cassetchannel\\x12;\\x12)\\n\\x0bApplication\\x12\\x1a\\x12\\x0b\\n\\x07Org1MSP\\x12\\x00\\x12\\x0b\\n\\x07Org2MSP\\x12\\x00\\x1a\\x0e\\n\\nConsortium\\x12\\x00\\x1a\\xed\\x01\\x12\\xc6\\x01\\n\\x0bApplication\\x12\\xb6\\x01\\x08\\x01\\x12\\x0b\\n\\x07Org1MSP\\x12\\x00\\x12\\x0b\\n\\x07Org2MSP\\x12\\x00\\x1a$\\n\\x0cCapabilities\\x12\\x14\\x12\\n\\n\\x08\\n\\x04V1_3\\x12\\x00\\x1a\\x06Admins\"\"\\n\\x07Readers\\x12\\x17\\x12\\r\\x08\\x03\\x12\\t\\n\\x07Readers\\x1a\\x06Admins\"\"\\n\\x07Writers\\x12\\x17\\x12\\r\\x08\\x03\\x12\\t\\n\\x07Writers\\x1a\\x06Admins\"\"\\n\\x06Admins\\x12\\x18\\x12\\x0e\\x08\\x03\\x12\\n\\n\\x06Admins\\x10\\x02\\x1a\\x06Admins*\\x06Admins\\x1a\"\\n\\nConsortium\\x12\\x14\\x12\\x12\\n\\x10SampleConsortium', 'orderer': <hfc.fabric.orderer.Orderer object at 0x7fe584d50880>, 'channel_name': 'assetchannel'}\n",
      "_create_or_update_channel - start\n",
      "_create_or_update_channel - have config_update\n",
      "New channel with name = assetchannel\n",
      "get genesis block successfully, block=data_hash: \"]u\\304\\032\\003\\217\\\\\\222\\376\\314\\2610s\\312X@\\t\\240,\\246\\017NN<\\2403N/\\220h\\374Z\"\n",
      "\n"
     ]
    },
    {
     "name": "stdout",
     "output_type": "stream",
     "text": [
      "True\n"
     ]
    },
    {
     "name": "stderr",
     "output_type": "stream",
     "text": [
      "get genesis block successfully, block=data_hash: \"]u\\304\\032\\003\\217\\\\\\222\\376\\314\\2610s\\312X@\\t\\240,\\246\\017NN<\\2403N/\\220h\\374Z\"\n",
      "\n"
     ]
    },
    {
     "name": "stdout",
     "output_type": "stream",
     "text": [
      "True\n",
      "True\n"
     ]
    }
   ],
   "source": [
    "#import library\n",
    "from hfc.fabric import Client\n",
    "\n",
    "# Define client object\n",
    "cli = Client(net_profile=\"test/fixtures/network.json\") #/home/ghanendra/fabric-sdk-py/test/fixtures/network.json\")\n",
    "\n",
    "# Get Details\n",
    "print(cli.organizations)  # orgs in the network\n",
    "print(cli.peers)  # peers in the network\n",
    "print(cli.orderers)  # orderers in the network\n",
    "print(cli.CAs)  # ca nodes in the network\n",
    "\n",
    "\n",
    "# Define Admins for the Organisations\n",
    "org1_admin = cli.get_user(org_name='org1.example.com', name='Admin') # User instance with the Org1 admin's certs\n",
    "org2_admin = cli.get_user(org_name='org2.example.com', name='Admin') # User instance with the Org2 admin's certs\n",
    "orderer_admin = cli.get_user(org_name='orderer.example.com', name='Admin') # User instance with the orderer's certs\n",
    "\n",
    "#Create a channel\n",
    "response = await cli.channel_create(\n",
    "                    orderer='orderer.example.com',\n",
    "                    channel_name='assetchannel',\n",
    "                    requestor=org1_admin,\n",
    "                    config_yaml='test/fixtures/e2e_cli/',\n",
    "                    channel_profile='TwoOrgsChannel'\n",
    "                    )\n",
    "\n",
    "# response = true is returned if the channel is created successfully\n",
    "print(response==True)\n",
    "\n",
    "\n",
    "responses = await cli.channel_join(\n",
    "                       requestor=org1_admin,\n",
    "                       channel_name='assetchannel',\n",
    "                       peers=['peer0.org1.example.com',\n",
    "                      'peer1.org1.example.com'],\n",
    "                       orderer='orderer.example.com'\n",
    "                       )\n",
    "\n",
    "# The length of the response should be two as len(peers) = 2\n",
    "print(len(responses) == 2)\n",
    "\n",
    "\n",
    "responses = await cli.channel_join(\n",
    "                       requestor=org2_admin,\n",
    "                       channel_name='assetchannel',\n",
    "                       peers=['peer0.org2.example.com',\n",
    "                      'peer1.org2.example.com'],\n",
    "                       orderer='orderer.example.com'\n",
    "                       )\n",
    "\n",
    "# The length of the response should be two as len(peers) = 2\n",
    "print(len(responses) == 2)\n",
    "\n"
   ]
  },
  {
   "cell_type": "code",
   "execution_count": 2,
   "id": "indonesian-principal",
   "metadata": {
    "scrolled": false
   },
   "outputs": [
    {
     "name": "stderr",
     "output_type": "stream",
     "text": [
      "New channel with name = assetchannel\n"
     ]
    },
    {
     "name": "stdout",
     "output_type": "stream",
     "text": [
      "[response {\n",
      "  status: 200\n",
      "  payload: \"OK\"\n",
      "}\n",
      "]\n"
     ]
    }
   ],
   "source": [
    "# This installs the example chaincode on the peers\n",
    "# Make the client know there is a channel in the network\n",
    "cli.new_channel('assetchannel')\n",
    "\n",
    "#The GOPTAH settings is required for only running the example chaincode in the SDK\n",
    "import os\n",
    "gopath_bak = os.environ.get('GOPATH', '')\n",
    "gopath = os.path.normpath(os.path.join(\n",
    "                      os.path.dirname(os.path.realpath('__file__')),\n",
    "                      'test/fixtures/chaincode/'\n",
    "                     ))\n",
    "\n",
    "os.environ['GOPATH'] = os.path.abspath(gopath)\n",
    "\n",
    "# The response should be true if succeed\n",
    "response = await cli.chaincode_install(\n",
    "               requestor=org1_admin,\n",
    "               peers=['peer0.org1.example.com'],\n",
    "               cc_path='github.com/sacc',\n",
    "               cc_name='sacc',\n",
    "               cc_version='v1.0'\n",
    "               )\n",
    "print(response)\n",
    "\n"
   ]
  },
  {
   "cell_type": "code",
   "execution_count": 3,
   "id": "technological-garage",
   "metadata": {},
   "outputs": [
    {
     "name": "stderr",
     "output_type": "stream",
     "text": [
      "New channel with name = assetchannel\n"
     ]
    },
    {
     "name": "stdout",
     "output_type": "stream",
     "text": [
      "[response {\n",
      "  status: 200\n",
      "  payload: \"OK\"\n",
      "}\n",
      ", response {\n",
      "  status: 200\n",
      "  payload: \"OK\"\n",
      "}\n",
      "]\n"
     ]
    }
   ],
   "source": [
    "# This installs the example chaincode on the peers\n",
    "# Make the client know there is a channel in the network\n",
    "cli.new_channel('assetchannel')\n",
    "\n",
    "#The GOPTAH settings is required for only running the example chaincode in the SDK\n",
    "import os\n",
    "gopath_bak = os.environ.get('GOPATH', '')\n",
    "gopath = os.path.normpath(os.path.join(\n",
    "                      os.path.dirname(os.path.realpath('__file__')),\n",
    "                      'test/fixtures/chaincode/'\n",
    "                     ))\n",
    "\n",
    "os.environ['GOPATH'] = os.path.abspath(gopath)\n",
    "\n",
    "# The response should be true if succeed\n",
    "response = await cli.chaincode_install(\n",
    "               requestor=org2_admin,\n",
    "               peers=['peer0.org2.example.com','peer1.org2.example.com'],\n",
    "               cc_path='github.com/sacc',\n",
    "               cc_name='sacc',\n",
    "               cc_version='v1.0'\n",
    "               )\n",
    "print(response)\n",
    "\n"
   ]
  },
  {
   "cell_type": "code",
   "execution_count": 4,
   "id": "substantial-address",
   "metadata": {},
   "outputs": [
    {
     "name": "stdout",
     "output_type": "stream",
     "text": [
      "{'name': 'sacc', 'version': 'v1.0', 'escc': 'escc', 'vscc': 'vscc', 'policy': {'version': 0, 'rule': {'n_out_of': {'n': 1, 'rules': [{'signed_by': 0}, {'signed_by': 1}]}}, 'identities': [{'principal_classification': 'ROLE', 'principal': {'msp_identifier': 'Org1MSP', 'role': 'MEMBER'}}, {'principal_classification': 'ROLE', 'principal': {'msp_identifier': 'Org2MSP', 'role': 'MEMBER'}}]}, 'data': {'hash': b\"\\x1cs\\xd9\\xd7'<\\xdbg89\\xf8\\xfe\\xf6\\xa8w\\xcf8DRI\\xb6\\x1b\\x0cjz\\x95\\xc9\\xc0\\x0e~\\x13\\xb9\", 'metadatahash': b'\\xa1\\xff\\xb1A\\x8a|$\\xf5\\xcd$~\\x04M\\xcf\\xc6\\xc1\\x7fw_\\xb2j\\xbc\\xf3K\\xf2()\\xb7e\\x16\\xce\\x8b'}, 'id': b\"\\x99\\xac\\xe6\\xd5;\\xcbX\\xd8Z'\\xd4Q\\x0e[\\xc43\\x87ec7\\x03ip\\x12\\xb9\\xec\\x99\\xcf\\xb7\\x8b\\xc3\\xbc\", 'instantiation_policy': {'version': 0, 'rule': {'n_out_of': {'n': 1, 'rules': [{'signed_by': 0}, {'signed_by': 1}]}}, 'identities': [{'principal_classification': 'ROLE', 'principal': {'msp_identifier': 'Org1MSP', 'role': 'ADMIN'}}, {'principal_classification': 'ROLE', 'principal': {'msp_identifier': 'Org2MSP', 'role': 'ADMIN'}}]}}\n"
     ]
    }
   ],
   "source": [
    "#Instantiate Chaincode in Channel\n",
    "#args = ['a', '400', 'b', '600']\n",
    "\n",
    "args = [\"Ron\"]\n",
    "\n",
    "response = await cli.chaincode_instantiate(\n",
    "               requestor=org1_admin,\n",
    "               channel_name='assetchannel',\n",
    "               peers=['peer0.org1.example.com'],\n",
    "               args=args,\n",
    "               cc_name='sacc',\n",
    "               cc_version='v1.0',\n",
    "               cc_endorsement_policy=None, # optional, but recommended\n",
    "               collections_config=None, # optional, for private data policy\n",
    "               transient_map=None, # optional, for private data\n",
    "               wait_for_event=True # optional, for being sure chaincode is instantiated\n",
    "               )\n",
    "print(response)"
   ]
  },
  {
   "cell_type": "code",
   "execution_count": 5,
   "id": "threatened-abortion",
   "metadata": {},
   "outputs": [
    {
     "name": "stdout",
     "output_type": "stream",
     "text": [
      "$2597\n"
     ]
    }
   ],
   "source": [
    "#Invoke a Chaincode to store data\n",
    "args = ['ether','$2597']\n",
    "response = await cli.chaincode_invoke(\n",
    "               requestor=org1_admin,\n",
    "               channel_name='assetchannel',\n",
    "               peers=['peer0.org1.example.com'],\n",
    "               args=args,\n",
    "               cc_name='sacc',\n",
    "               fcn = \"set\",\n",
    "               transient_map=None, \n",
    "               wait_for_event=True,\n",
    "               )\n",
    "print(response)\n"
   ]
  },
  {
   "cell_type": "code",
   "execution_count": 13,
   "id": "necessary-chinese",
   "metadata": {},
   "outputs": [
    {
     "name": "stdout",
     "output_type": "stream",
     "text": [
      "['Bitcoin', '$54,221']\n",
      "Response from Transaction:  $54,221\n",
      "['Litecoin', '$251']\n",
      "Response from Transaction:  $251\n",
      "['XRP', '$874']\n",
      "Response from Transaction:  $874\n",
      "['Dash', '$281']\n",
      "Response from Transaction:  $281\n",
      "['Ripple', '$1']\n",
      "Response from Transaction:  $1\n"
     ]
    }
   ],
   "source": [
    "#Store Cryptocurrencies prices by invokeing Chaincode\n",
    "#For References\n",
    "#https://www.skrill.com/en/crypto/live-cryptocurrency-prices/\n",
    "crypto_prices = {'Bitcoin':'$54,221','Litecoin':'$251','XRP':'$874','Dash':'$281','Ripple':'$1'}\n",
    "\n",
    "for coin,price in crypto_prices.items():\n",
    "    args = [coin,price]\n",
    "    print(args)\n",
    "    response = await cli.chaincode_invoke(\n",
    "                   requestor=org1_admin,\n",
    "                   channel_name='assetchannel',\n",
    "                   peers=['peer0.org1.example.com'],\n",
    "                   args=args,\n",
    "                   cc_name='sacc',\n",
    "                   fcn = \"set\",\n",
    "                   transient_map=None, \n",
    "                   wait_for_event=True,\n",
    "                   )\n",
    "    print('Response from Transaction: ',response)\n"
   ]
  },
  {
   "cell_type": "code",
   "execution_count": 26,
   "id": "informed-class",
   "metadata": {},
   "outputs": [
    {
     "name": "stdout",
     "output_type": "stream",
     "text": [
      "$251\n"
     ]
    }
   ],
   "source": [
    "# Retrive Litecoin price from the database\n",
    "args = ['Litecoin']\n",
    "\n",
    "response = await cli.chaincode_invoke(\n",
    "               requestor=org1_admin,\n",
    "               channel_name='assetchannel',\n",
    "               peers=['peer0.org1.example.com'],\n",
    "               args=args,\n",
    "               cc_name='sacc',\n",
    "               fcn = \"get\",\n",
    "               transient_map=None, \n",
    "               wait_for_event=True,\n",
    "               )\n",
    "print(response)"
   ]
  },
  {
   "cell_type": "code",
   "execution_count": null,
   "id": "forward-heater",
   "metadata": {},
   "outputs": [],
   "source": []
  }
 ],
 "metadata": {
  "kernelspec": {
   "display_name": "Python 3",
   "language": "python",
   "name": "python3"
  },
  "language_info": {
   "codemirror_mode": {
    "name": "ipython",
    "version": 3
   },
   "file_extension": ".py",
   "mimetype": "text/x-python",
   "name": "python",
   "nbconvert_exporter": "python",
   "pygments_lexer": "ipython3",
   "version": "3.8.5"
  }
 },
 "nbformat": 4,
 "nbformat_minor": 5
}
