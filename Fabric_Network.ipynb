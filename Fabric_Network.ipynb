{
 "cells": [
  {
   "cell_type": "markdown",
   "id": "original-paste",
   "metadata": {},
   "source": [
    "## Hyperledger Fabric Python SDK"
   ]
  },
  {
   "cell_type": "code",
   "execution_count": 22,
   "id": "labeled-knowing",
   "metadata": {},
   "outputs": [],
   "source": [
    "# To start fabric network in the installed fabric-sdk library\n",
    "\n",
    "# $ HLF_VERSION=1.4.6\n",
    "# $ docker pull hyperledger/fabric-peer:${HLF_VERSION}\n",
    "# $ docker pull hyperledger/fabric-orderer:${HLF_VERSION}\n",
    "# $ docker pull hyperledger/fabric-ca:${HLF_VERSION}\n",
    "# $ docker pull hyperledger/fabric-ccenv:${HLF_VERSION}\n",
    "# $ docker-compose -f test/fixtures/docker-compose-2orgs-4peers-tls.yaml up"
   ]
  },
  {
   "cell_type": "markdown",
   "id": "increased-exercise",
   "metadata": {},
   "source": [
    "## 1. Get Credentials"
   ]
  },
  {
   "cell_type": "markdown",
   "id": "automatic-duplicate",
   "metadata": {},
   "source": [
    "### 1.1 Load the Connection Profile"
   ]
  },
  {
   "cell_type": "markdown",
   "id": "compressed-medium",
   "metadata": {},
   "source": [
    "### Client\n",
    "* Main interaction handler with end user.\n",
    "* Client can maintain several channels.\n",
    "* Creation of a client with empty network profile"
   ]
  },
  {
   "cell_type": "code",
   "execution_count": 72,
   "id": "unusual-centre",
   "metadata": {},
   "outputs": [
    {
     "name": "stderr",
     "output_type": "stream",
     "text": [
      "Init client with profile=test/fixtures/network.json\n",
      "create org with name=orderer.example.com\n",
      "create org with name=org1.example.com\n",
      "create org with name=org2.example.com\n",
      "create ca with name=ca-org1\n",
      "create ca with name=ca-org2\n",
      "Import orderers = dict_keys(['orderer.example.com'])\n",
      "Import peers = dict_keys(['peer0.org1.example.com', 'peer1.org1.example.com', 'peer0.org2.example.com', 'peer1.org2.example.com'])\n"
     ]
    },
    {
     "name": "stdout",
     "output_type": "stream",
     "text": [
      "{'orderer.example.com': <hfc.fabric.organization.Organization object at 0x7fbb68201370>, 'org1.example.com': <hfc.fabric.organization.Organization object at 0x7fbb60630eb0>, 'org2.example.com': <hfc.fabric.organization.Organization object at 0x7fbb681efc40>}\n",
      "{'peer0.org1.example.com': <hfc.fabric.peer.Peer object at 0x7fbb681ec430>, 'peer1.org1.example.com': <hfc.fabric.peer.Peer object at 0x7fbb681ece80>, 'peer0.org2.example.com': <hfc.fabric.peer.Peer object at 0x7fbb6806fe80>, 'peer1.org2.example.com': <hfc.fabric.peer.Peer object at 0x7fbb68084130>}\n",
      "{'orderer.example.com': <hfc.fabric.orderer.Orderer object at 0x7fbb681ec460>}\n",
      "{'ca-org1': <hfc.fabric.certificateAuthority.certificateAuthority object at 0x7fbb681ec190>, 'ca-org2': <hfc.fabric.certificateAuthority.certificateAuthority object at 0x7fbb681ec400>}\n"
     ]
    }
   ],
   "source": [
    "from hfc.fabric import Client\n",
    "\n",
    "cli = Client(net_profile=\"test/fixtures/network.json\") #/home/ghanendra/fabric-sdk-py/test/fixtures/network.json\")\n",
    "\n",
    "print(cli.organizations)  # orgs in the network\n",
    "print(cli.peers)  # peers in the network\n",
    "print(cli.orderers)  # orderers in the network\n",
    "print(cli.CAs)  # ca nodes in the network"
   ]
  },
  {
   "cell_type": "markdown",
   "id": "optimum-harvard",
   "metadata": {},
   "source": [
    "### Sample Network with 4 peers(2 organisations), 1 orderer 2 certificate authority\n",
    "* Network.json contains the defined hyperledger fabric sample network"
   ]
  },
  {
   "cell_type": "markdown",
   "id": "right-bradford",
   "metadata": {},
   "source": [
    "## 1.2 Prepare User Id (Optionally)\n",
    "\n",
    "### SDK need the credential file as a valid network user.\n",
    "\n",
    "* #### Typically there are two ways: using cryptogen or using Fabric-CA. That will depend on how your network boots up with.\n",
    "* #### 1.2.1 Using Local Credential\n",
    "* #### SDK will load the valid credential from local path (the credentail files must be put there in advance)."
   ]
  },
  {
   "cell_type": "code",
   "execution_count": 3,
   "id": "complete-latter",
   "metadata": {},
   "outputs": [
    {
     "name": "stderr",
     "output_type": "stream",
     "text": [
      "Init client with profile=test/fixtures/network.json\n",
      "create org with name=orderer.example.com\n",
      "create org with name=org1.example.com\n",
      "create org with name=org2.example.com\n",
      "create ca with name=ca-org1\n",
      "create ca with name=ca-org2\n",
      "Import orderers = dict_keys(['orderer.example.com'])\n",
      "Import peers = dict_keys(['peer0.org1.example.com', 'peer1.org1.example.com', 'peer0.org2.example.com', 'peer1.org2.example.com'])\n"
     ]
    }
   ],
   "source": [
    "from hfc.fabric import Client\n",
    "\n",
    "cli = Client(net_profile=\"test/fixtures/network.json\")\n",
    "org1_admin = cli.get_user(org_name='org1.example.com', name='Admin') # get the admin user from local path"
   ]
  },
  {
   "cell_type": "markdown",
   "id": "convinced-facility",
   "metadata": {},
   "source": [
    "### 1.2.1 Hyperledger fabric network information"
   ]
  },
  {
   "cell_type": "code",
   "execution_count": 27,
   "id": "mighty-tourism",
   "metadata": {},
   "outputs": [
    {
     "data": {
      "text/plain": [
       "{'name': 'sample-network',\n",
       " 'description': 'Sample network contains 4 peers (2 orgs), 1 orderer and 2 cas for Python SDK testing',\n",
       " 'version': '0.1',\n",
       " 'client': {'organization': 'Org1',\n",
       "  'credentialStore': {'path': '/tmp/hfc-kvs',\n",
       "   'cryptoStore': {'path': '/tmp/hfc-cvs'},\n",
       "   'wallet': 'wallet-name'}},\n",
       " 'organizations': {'orderer.example.com': {'mspid': 'OrdererMSP',\n",
       "   'orderers': ['orderer.example.com'],\n",
       "   'certificateAuthorities': ['ca-orderer'],\n",
       "   'users': {'Admin': {'cert': 'test/fixtures/e2e_cli/crypto-config/ordererOrganizations/example.com/users/Admin@example.com/msp/signcerts/Admin@example.com-cert.pem',\n",
       "     'private_key': 'test/fixtures/e2e_cli/crypto-config/ordererOrganizations/example.com/users/Admin@example.com/msp/keystore/630e3767a6e1d3c8e646460123d397455103a900efb4d6fb679a9d9c481841fc_sk'}}},\n",
       "  'org1.example.com': {'mspid': 'Org1MSP',\n",
       "   'peers': ['peer0.org1.example.com', 'peer1.org1.example.com'],\n",
       "   'certificateAuthorities': ['ca-org1'],\n",
       "   'users': {'Admin': {'cert': 'test/fixtures/e2e_cli/crypto-config/peerOrganizations/org1.example.com/users/Admin@org1.example.com/msp/signcerts/Admin@org1.example.com-cert.pem',\n",
       "     'private_key': 'test/fixtures/e2e_cli/crypto-config/peerOrganizations/org1.example.com/users/Admin@org1.example.com/msp/keystore/c76527489d5820bd04da80a84c07033ca574413f80614091e04f05c276fb6896_sk'},\n",
       "    'User1': {'cert': 'test/fixtures/e2e_cli/crypto-config/peerOrganizations/org1.example.com/users/User1@org1.example.com/msp/signcerts/User1@org1.example.com-cert.pem',\n",
       "     'private_key': 'test/fixtures/e2e_cli/crypto-config/peerOrganizations/org1.example.com/users/User1@org1.example.com/msp/keystore/da72fd6c0f4595d33eb9ae6f6d06cd171ebc3882fc856960c244b9b5c2b35a90_sk'}}},\n",
       "  'org2.example.com': {'mspid': 'Org2MSP',\n",
       "   'peers': ['peer0.org2.example.com', 'peer1.org2.example.com'],\n",
       "   'certificateAuthorities': ['ca-org2'],\n",
       "   'users': {'Admin': {'cert': 'test/fixtures/e2e_cli/crypto-config/peerOrganizations/org2.example.com/users/Admin@org2.example.com/msp/signcerts/Admin@org2.example.com-cert.pem',\n",
       "     'private_key': {'pem': 'LS0tLS1CRUdJTiBQUklWQVRFIEtFWS0tLS0tCk1JR0hBZ0VBTUJNR0J5cUdTTTQ5QWdFR0NDcUdTTTQ5QXdFSEJHMHdhd0lCQVFRZ1ZkOVJLeGhuMWNlQ0xrWXoKOUJxdWlCM2d2MkZPazQvVU9SRnlUQS9QUnU2aFJBTkNBQVRLU25ySnpRSkUrcDhVRzBwbFRKeElOUnpJNzg0VQo3aHZsOWhjYzJlcE9jUFI5MVo5M0FGVGRFaDBpeXVFQ0JSRmdjWVovOG1PWmFrWDVLUHFGMzdKUwotLS0tLUVORCBQUklWQVRFIEtFWS0tLS0tCg=='}},\n",
       "    'User1': {'cert': {'pem': 'LS0tLS1CRUdJTiBDRVJUSUZJQ0FURS0tLS0tCk1JSUNLakNDQWRDZ0F3SUJBZ0lRWmxaZXI5T1ZvL2I0UWlpNDVzVWZFekFLQmdncWhrak9QUVFEQWpCek1Rc3cKQ1FZRFZRUUdFd0pWVXpFVE1CRUdBMVVFQ0JNS1EyRnNhV1p2Y201cFlURVdNQlFHQTFVRUJ4TU5VMkZ1SUVaeQpZVzVqYVhOamJ6RVpNQmNHQTFVRUNoTVFiM0puTWk1bGVHRnRjR3hsTG1OdmJURWNNQm9HQTFVRUF4TVRZMkV1CmIzSm5NaTVsZUdGdGNHeGxMbU52YlRBZUZ3MHhPREV3TVRrd016UTRNREJhRncweU9ERXdNVFl3TXpRNE1EQmEKTUd3eEN6QUpCZ05WQkFZVEFsVlRNUk13RVFZRFZRUUlFd3BEWVd4cFptOXlibWxoTVJZd0ZBWURWUVFIRXcxVApZVzRnUm5KaGJtTnBjMk52TVE4d0RRWURWUVFMRXdaamJHbGxiblF4SHpBZEJnTlZCQU1NRmxWelpYSXhRRzl5Clp6SXVaWGhoYlhCc1pTNWpiMjB3V1RBVEJnY3Foa2pPUFFJQkJnZ3Foa2pPUFFNQkJ3TkNBQVNhSkc4eHpkSncKREdvWENxb3VVWllIQ1c1NlNlM3NVOU9WaitOU0daeGV0Zm1tLythS0RxSU1FZCtiRFBWbjBIWnNaWUMvc1lXTApmd0lrdkk5VjIvNE5vMDB3U3pBT0JnTlZIUThCQWY4RUJBTUNCNEF3REFZRFZSMFRBUUgvQkFJd0FEQXJCZ05WCkhTTUVKREFpZ0NEdTJvY05LSkRWMkhtdFhuTFJRNXBzczViNk9XNE9DWXdJNkhOTStoRTVqREFLQmdncWhrak8KUFFRREFnTklBREJGQWlFQTJXc20wTW1RbVZwVU1DcitEeGtlbWhvMjZMa1FsNmtKYVBVbkdmaGNCbmNDSUN1aQpmbTZXcnBEL0xrODBaNFZPRGFBTGZxOVd0MVpPeEx4M1pXaDl1RUtLCi0tLS0tRU5EIENFUlRJRklDQVRFLS0tLS0K'},\n",
       "     'private_key': {'path': 'test/fixtures/e2e_cli/crypto-config/peerOrganizations/org2.example.com/users/User1@org2.example.com/msp/keystore/73beefad9003c589064deb2128c4f0831ba8003f1233102cc52a188afd05fe61_sk'}}}}},\n",
       " 'orderers': {'orderer.example.com': {'url': 'localhost:7050',\n",
       "   'grpcOptions': {'grpc.ssl_target_name_override': 'orderer.example.com',\n",
       "    'grpc-max-send-message-length': 15},\n",
       "   'tlsCACerts': {'path': 'test/fixtures/e2e_cli/crypto-config/ordererOrganizations/example.com/tlsca/tlsca.example.com-cert.pem'}}},\n",
       " 'peers': {'peer0.org1.example.com': {'url': 'localhost:7051',\n",
       "   'eventUrl': 'localhost:7053',\n",
       "   'grpcOptions': {'grpc.ssl_target_name_override': 'peer0.org1.example.com',\n",
       "    'grpc.http2.keepalive_time': 15},\n",
       "   'tlsCACerts': {'path': 'test/fixtures/e2e_cli/crypto-config/peerOrganizations/org1.example.com/peers/peer0.org1.example.com/msp/tlscacerts/tlsca.org1.example.com-cert.pem'}},\n",
       "  'peer1.org1.example.com': {'url': 'localhost:8051',\n",
       "   'eventUrl': 'localhost:8053',\n",
       "   'grpcOptions': {'grpc.ssl_target_name_override': 'peer1.org1.example.com'},\n",
       "   'tlsCACerts': {'path': 'test/fixtures/e2e_cli/crypto-config/peerOrganizations/org1.example.com/peers/peer1.org1.example.com/msp/tlscacerts/tlsca.org1.example.com-cert.pem'}},\n",
       "  'peer0.org2.example.com': {'url': 'localhost:9051',\n",
       "   'eventUrl': 'localhost:9053',\n",
       "   'grpcOptions': {'grpc.ssl_target_name_override': 'peer0.org2.example.com',\n",
       "    'grpc.http2.keepalive_time': 15},\n",
       "   'tlsCACerts': {'path': 'test/fixtures/e2e_cli/crypto-config/peerOrganizations/org2.example.com/peers/peer0.org2.example.com/msp/tlscacerts/tlsca.org2.example.com-cert.pem'}},\n",
       "  'peer1.org2.example.com': {'url': 'localhost:10051',\n",
       "   'eventUrl': 'localhost:10053',\n",
       "   'grpcOptions': {'grpc.ssl_target_name_override': 'peer1.org2.example.com'},\n",
       "   'tlsCACerts': {'path': 'test/fixtures/e2e_cli/crypto-config/peerOrganizations/org2.example.com/peers/peer1.org2.example.com/msp/tlscacerts/tlsca.org2.example.com-cert.pem'}}},\n",
       " 'certificateAuthorities': {'ca-org1': {'url': 'https://localhost:7054',\n",
       "   'grpcOptions': {'verify': True},\n",
       "   'tlsCACerts': {'path': 'test/fixtures/e2e_cli/crypto-config/peerOrganizations/org1.example.com/ca/org1.example.com-cert.pem'},\n",
       "   'registrar': [{'enrollId': 'admin', 'enrollSecret': 'adminpw'}]},\n",
       "  'ca-org2': {'url': 'https://localhost:8054',\n",
       "   'grpcOptions': {'verify': True},\n",
       "   'tlsCACerts': {'path': 'test/fixtures/e2e_cli/crypto-config/peerOrganizations/org2.example.com/ca/org2.example.com-cert.pem'},\n",
       "   'registrar': [{'enrollId': 'admin', 'enrollSecret': 'adminpw'}]}}}"
      ]
     },
     "execution_count": 27,
     "metadata": {},
     "output_type": "execute_result"
    }
   ],
   "source": [
    "cli.get_net_info()"
   ]
  },
  {
   "cell_type": "markdown",
   "id": "finnish-strand",
   "metadata": {},
   "source": [
    "## 1.2.2 Get Credentail from Fabric CA\n",
    "\n",
    "### Here demos how to interact with Fabric CA.\n",
    "\n",
    "* Enroll into Fabric CA with admin role;\n",
    "* Register a user user1;\n",
    "* Enroll with the new user user1 and get local credential;\n",
    "* Re-enroll the user1;\n",
    "* Revoke the user1.\n",
    "\n",
    "To use CA, a CA server must be started. For example,"
   ]
  },
  {
   "cell_type": "code",
   "execution_count": null,
   "id": "satisfied-reward",
   "metadata": {},
   "outputs": [],
   "source": [
    "#$ docker-compose -f test/fixtures/ca/docker-compose.yml up"
   ]
  },
  {
   "cell_type": "code",
   "execution_count": 5,
   "id": "stuck-surprise",
   "metadata": {},
   "outputs": [],
   "source": [
    "from hfc.fabric_ca.caservice import ca_service\n",
    "\n",
    "casvc = ca_service(target=\"http://127.0.0.1:7054\")\n",
    "adminEnrollment = casvc.enroll(\"admin\", \"adminpw\") # now local will have the admin enrollment\n",
    "secret = adminEnrollment.register(\"user2\") # register a user to ca\n",
    "user1Enrollment = casvc.enroll(\"user2\", secret) # now local will have the user enrollment\n",
    "user1ReEnrollment = casvc.reenroll(user1Enrollment) # now local will have the user reenrolled object\n",
    "RevokedCerts, CRL = adminEnrollment.revoke(\"user2\") # revoke the user if you need"
   ]
  },
  {
   "cell_type": "markdown",
   "id": "dimensional-vegetarian",
   "metadata": {},
   "source": [
    "### You can also use the new identity management system:"
   ]
  },
  {
   "cell_type": "code",
   "execution_count": 6,
   "id": "affiliated-person",
   "metadata": {},
   "outputs": [],
   "source": [
    "from hfc.fabric_ca.caservice import ca_service\n",
    "\n",
    "casvc = ca_service(target=\"http://127.0.0.1:7054\")\n",
    "identityService = casvc.newIdentityService()\n",
    "\n",
    "admin = casvc.enroll(\"admin\", \"adminpw\") # now local will have the admin user\n",
    "secret = identityService.create(admin, 'foo') # create user foo\n",
    "res = identityService.getOne('foo', admin) # get user foo\n",
    "res = identityService.getAll(admin) # get all users\n",
    "res = identityService.update('foo', admin, maxEnrollments=3, affiliation='.', enrollmentSecret='bar') # update user foo\n",
    "res = identityService.delete('foo', admin) # delete user foo"
   ]
  },
  {
   "cell_type": "markdown",
   "id": "played-subdivision",
   "metadata": {},
   "source": [
    "# 2. Operate Channels with Fabric Network"
   ]
  },
  {
   "cell_type": "markdown",
   "id": "surgical-greece",
   "metadata": {},
   "source": [
    "### 2.1 Create a new channel and join it\n",
    "\n",
    "* #### Use sdk to create a new channel and let peers join it."
   ]
  },
  {
   "cell_type": "markdown",
   "id": "aware-active",
   "metadata": {},
   "source": [
    "### Get the organisations and define the organisation admins."
   ]
  },
  {
   "cell_type": "code",
   "execution_count": 73,
   "id": "strong-glass",
   "metadata": {},
   "outputs": [],
   "source": [
    "org1_admin = cli.get_user(org_name='org1.example.com', name='Admin') # User instance with the Org1 admin's certs\n",
    "org2_admin = cli.get_user(org_name='org2.example.com', name='Admin') # User instance with the Org2 admin's certs\n",
    "orderer_admin = cli.get_user(org_name='orderer.example.com', name='Admin') # User instance with the orderer's certs"
   ]
  },
  {
   "cell_type": "markdown",
   "id": "maritime-seeker",
   "metadata": {},
   "source": [
    "### Create a New Channel, the response should be true if succeed"
   ]
  },
  {
   "cell_type": "code",
   "execution_count": 74,
   "id": "express-vampire",
   "metadata": {},
   "outputs": [
    {
     "name": "stderr",
     "output_type": "stream",
     "text": [
      "FABRIC_CFG_PATH set to /home/ghanendra/fabric-sdk-py/test/fixtures/e2e_cli/\n",
      "Configtx file successfully created in current             directory\n",
      "{'tx_id': 'b944313bf01d4ecf8be0b1c04e140025800238736a3f94735af6faaa5d090fe1', 'nonce': b'R+\\xb7\\xa8;\\xa2.\\xf45{\\xdd\\xf7o\\x12\\x7f1J(K\\xe7\\xc0\\x84\\x11\\xdb', 'signatures': [b'\\n\\xd3\\x06\\n\\xb6\\x06\\n\\x07Org1MSP\\x12\\xaa\\x06-----BEGIN CERTIFICATE-----\\nMIICKjCCAdCgAwIBAgIQEn3uLYlL4sXXQBS1/k8u7zAKBggqhkjOPQQDAjBzMQsw\\nCQYDVQQGEwJVUzETMBEGA1UECBMKQ2FsaWZvcm5pYTEWMBQGA1UEBxMNU2FuIEZy\\nYW5jaXNjbzEZMBcGA1UEChMQb3JnMS5leGFtcGxlLmNvbTEcMBoGA1UEAxMTY2Eu\\nb3JnMS5leGFtcGxlLmNvbTAeFw0xODEwMTkwMzQ4MDBaFw0yODEwMTYwMzQ4MDBa\\nMGwxCzAJBgNVBAYTAlVTMRMwEQYDVQQIEwpDYWxpZm9ybmlhMRYwFAYDVQQHEw1T\\nYW4gRnJhbmNpc2NvMQ8wDQYDVQQLEwZjbGllbnQxHzAdBgNVBAMMFkFkbWluQG9y\\nZzEuZXhhbXBsZS5jb20wWTATBgcqhkjOPQIBBggqhkjOPQMBBwNCAAR2zFPDBYIy\\njZSXaB15ILW9MRUYkSiksD6Io+VBbsJex2S7Do7lJhYfpyg5Z1LEHLCQgHH/VJ1F\\nMZmNHgIIHqWPo00wSzAOBgNVHQ8BAf8EBAMCB4AwDAYDVR0TAQH/BAIwADArBgNV\\nHSMEJDAigCBrrGAVZjePzZuDxouWmQ1BrbUVMmQN6w6E+DzsHViX0jAKBggqhkjO\\nPQQDAgNIADBFAiEA0FGz0YuvjPaKGy0h7+AUGJ+02O78VIIJx3wX1SL0ODMCIHSN\\nDX1FwttwXOkNiLBOi9sz04bOXz6ALO0xXtZCE4pi\\n-----END CERTIFICATE-----\\n\\x12\\x18R+\\xb7\\xa8;\\xa2.\\xf45{\\xdd\\xf7o\\x12\\x7f1J(K\\xe7\\xc0\\x84\\x11\\xdb\\x12G0E\\x02!\\x00\\xf2\\xf5.\\x0cF\\x0b}\\x91Q\\xff\\xeeg5ne3\\x00\\xe34\\xa8\\xda\\xc3q\\x8d\\x0c\\xe36\\x94\\xca\\x1d\\xd3b\\x02 R\\xc5\\xa8\\xde\\x1c\\x06v\\xa6Kf\\x99\\x9d@x\\x15>\\x14^\\x02{\\x1a\\xfb\\x11|\\xba\\x12\\xa4\\xaf\\xb1\\xb7\\xa2u'], 'config': b'\\n\\x0fbusinesschannel\\x12;\\x12)\\n\\x0bApplication\\x12\\x1a\\x12\\x0b\\n\\x07Org1MSP\\x12\\x00\\x12\\x0b\\n\\x07Org2MSP\\x12\\x00\\x1a\\x0e\\n\\nConsortium\\x12\\x00\\x1a\\xed\\x01\\x12\\xc6\\x01\\n\\x0bApplication\\x12\\xb6\\x01\\x08\\x01\\x12\\x0b\\n\\x07Org1MSP\\x12\\x00\\x12\\x0b\\n\\x07Org2MSP\\x12\\x00\\x1a$\\n\\x0cCapabilities\\x12\\x14\\x12\\n\\n\\x08\\n\\x04V1_3\\x12\\x00\\x1a\\x06Admins\"\"\\n\\x07Readers\\x12\\x17\\x12\\r\\x08\\x03\\x12\\t\\n\\x07Readers\\x1a\\x06Admins\"\"\\n\\x07Writers\\x12\\x17\\x12\\r\\x08\\x03\\x12\\t\\n\\x07Writers\\x1a\\x06Admins\"\"\\n\\x06Admins\\x12\\x18\\x12\\x0e\\x08\\x03\\x12\\n\\n\\x06Admins\\x10\\x02\\x1a\\x06Admins*\\x06Admins\\x1a\"\\n\\nConsortium\\x12\\x14\\x12\\x12\\n\\x10SampleConsortium', 'orderer': <hfc.fabric.orderer.Orderer object at 0x7fbb681ec460>, 'channel_name': 'businesschannel'}\n",
      "_create_or_update_channel - start\n",
      "_create_or_update_channel - have config_update\n",
      "New channel with name = businesschannel\n"
     ]
    },
    {
     "name": "stdout",
     "output_type": "stream",
     "text": [
      "True\n"
     ]
    }
   ],
   "source": [
    "response = await cli.channel_create(\n",
    "                    orderer='orderer.example.com',\n",
    "                    channel_name='businesschannel',\n",
    "                    requestor=org1_admin,\n",
    "                    config_yaml='test/fixtures/e2e_cli/',\n",
    "                    channel_profile='TwoOrgsChannel'\n",
    "                    )\n",
    "\n",
    "# response = true is returned if the channel is created successfully\n",
    "print(response)"
   ]
  },
  {
   "cell_type": "markdown",
   "id": "illegal-authorization",
   "metadata": {},
   "source": [
    "### Join Peers into Channel, the response should be true if succeed"
   ]
  },
  {
   "cell_type": "code",
   "execution_count": 75,
   "id": "medieval-garden",
   "metadata": {},
   "outputs": [
    {
     "name": "stderr",
     "output_type": "stream",
     "text": [
      "get genesis block successfully, block=data_hash: \"\\202\\326D\\347(\\224\\270\\220\\\"\\'H\\\\\\300\\275\\000\\027?\\226=\\270F\\201\\211\\023\\307\\211J\\334{\\\\\\007p\"\n",
      "\n"
     ]
    },
    {
     "name": "stdout",
     "output_type": "stream",
     "text": [
      "True\n"
     ]
    }
   ],
   "source": [
    "responses = await cli.channel_join(\n",
    "                       requestor=org1_admin,\n",
    "                       channel_name='businesschannel',\n",
    "                       peers=['peer0.org1.example.com',\n",
    "                      'peer1.org1.example.com'],\n",
    "                       orderer='orderer.example.com'\n",
    "                       )\n",
    "\n",
    "# The length of the response should be two as len(peers) = 2\n",
    "print(len(responses) == 2)"
   ]
  },
  {
   "cell_type": "markdown",
   "id": "substantial-enforcement",
   "metadata": {},
   "source": [
    "### For operations on peers from org2.example.com, org2_admin is required as requestor"
   ]
  },
  {
   "cell_type": "code",
   "execution_count": 76,
   "id": "confirmed-billy",
   "metadata": {},
   "outputs": [
    {
     "name": "stderr",
     "output_type": "stream",
     "text": [
      "get genesis block successfully, block=data_hash: \"\\202\\326D\\347(\\224\\270\\220\\\"\\'H\\\\\\300\\275\\000\\027?\\226=\\270F\\201\\211\\023\\307\\211J\\334{\\\\\\007p\"\n",
      "\n"
     ]
    },
    {
     "name": "stdout",
     "output_type": "stream",
     "text": [
      "True\n"
     ]
    }
   ],
   "source": [
    "responses = await cli.channel_join(\n",
    "                       requestor=org2_admin,\n",
    "                       channel_name='businesschannel',\n",
    "                       peers=['peer0.org2.example.com',\n",
    "                      'peer1.org2.example.com'],\n",
    "                       orderer='orderer.example.com'\n",
    "                       )\n",
    "\n",
    "# The length of the response should be two as len(peers) = 2\n",
    "print(len(responses) == 2)"
   ]
  },
  {
   "cell_type": "markdown",
   "id": "official-stewart",
   "metadata": {},
   "source": [
    "## 3. Operate Chaincodes with Fabric Network"
   ]
  },
  {
   "cell_type": "code",
   "execution_count": 77,
   "id": "impaired-vermont",
   "metadata": {},
   "outputs": [
    {
     "name": "stderr",
     "output_type": "stream",
     "text": [
      "New channel with name = businesschannel\n"
     ]
    },
    {
     "name": "stdout",
     "output_type": "stream",
     "text": [
      "True\n"
     ]
    }
   ],
   "source": [
    "# This installs the example chaincode on the peers\n",
    "# Make the client know there is a channel in the network\n",
    "cli.new_channel('businesschannel')\n",
    "\n",
    "#The GOPTAH settings is required for only running the example chaincode in the SDK\n",
    "import os\n",
    "gopath_bak = os.environ.get('GOPATH', '')\n",
    "gopath = os.path.normpath(os.path.join(\n",
    "                      os.path.dirname(os.path.realpath('__file__')),\n",
    "                      'test/fixtures/chaincode'\n",
    "                     ))\n",
    "\n",
    "# The response should be true if succeed\n",
    "responses = await cli.chaincode_install(\n",
    "               requestor=org1_admin,\n",
    "               peers=['peer0.org1.example.com',\n",
    "                      'peer1.org1.example.com'],\n",
    "               cc_path='github.com/example_cc',\n",
    "               cc_name='example_cc',\n",
    "               cc_version='v1.0'\n",
    "               )\n",
    "print(response==True)"
   ]
  },
  {
   "cell_type": "code",
   "execution_count": 87,
   "id": "charged-converter",
   "metadata": {},
   "outputs": [
    {
     "name": "stdout",
     "output_type": "stream",
     "text": [
      "False\n"
     ]
    }
   ],
   "source": [
    "# Instantiate Chaincode in Channel, the response should be true if succeed\n",
    "args = ['a', '200', 'b', '300']\n",
    "\n",
    "# This policy specifies the endorsement policy which is required while instantiating the chaincode\n",
    "policy = {\n",
    "    'identities': [\n",
    "        {'role': {'name': 'member', 'mspId': 'Org1MSP'}},\n",
    "    ],\n",
    "    'policy': {\n",
    "        '1-of': [\n",
    "            {'signed-by': 0},\n",
    "        ]\n",
    "    }\n",
    "}\n",
    "response = await cli.chaincode_instantiate(\n",
    "               requestor=org1_admin,\n",
    "               channel_name='businesschannel',\n",
    "               peers=['peer0.org1.example.com'],\n",
    "               args=args,\n",
    "               cc_name='example_cc',\n",
    "               cc_version='v1.0',\n",
    "               cc_endorsement_policy=policy, # optional, but recommended\n",
    "               collections_config=None, # optional, for private data policy\n",
    "               transient_map=None, # optional, for private data\n",
    "               wait_for_event=True # optional, for being sure chaincode is instantiated\n",
    "               )\n",
    "print(response==True)"
   ]
  },
  {
   "cell_type": "code",
   "execution_count": 86,
   "id": "fuzzy-looking",
   "metadata": {},
   "outputs": [
    {
     "name": "stdout",
     "output_type": "stream",
     "text": [
      "False\n"
     ]
    }
   ],
   "source": [
    "# Invoke a chaincode\n",
    "args = ['a', 'b', '100']\n",
    "# The response should be true if succeed\n",
    "response = await cli.chaincode_invoke(\n",
    "               requestor=org1_admin,\n",
    "               channel_name='businesschannel',\n",
    "               peers=['peer0.org1.example.com'],\n",
    "               args=args,\n",
    "               cc_name='example_cc',\n",
    "               transient_map=None, # optional, for private data\n",
    "               wait_for_event=True, # for being sure chaincode invocation has been commited in the ledger, default is on tx event\n",
    "               #cc_pattern='^invoked*' # if you want to wait for chaincode event and you have a `stub.SetEvent(\"invoked\", value)` in your chaincode\n",
    "               )\n",
    "print(response==True)"
   ]
  },
  {
   "cell_type": "code",
   "execution_count": 88,
   "id": "identified-synthetic",
   "metadata": {},
   "outputs": [
    {
     "name": "stdout",
     "output_type": "stream",
     "text": [
      "False\n"
     ]
    }
   ],
   "source": [
    "# Query a chaincode\n",
    "args = ['b']\n",
    "# The response should be true if succeed\n",
    "response = await (cli.chaincode_query(\n",
    "               requestor=org1_admin,\n",
    "               channel_name='businesschannel',\n",
    "               peers=['peer0.org1.example.com'],\n",
    "               args=args,\n",
    "               cc_name='example_cc'\n",
    "               ))\n",
    "print(response==True)"
   ]
  },
  {
   "cell_type": "code",
   "execution_count": 90,
   "id": "nuclear-platform",
   "metadata": {},
   "outputs": [
    {
     "name": "stdout",
     "output_type": "stream",
     "text": [
      "False\n"
     ]
    }
   ],
   "source": [
    "# Upgrade a chaincode\n",
    "# policy, see https://hyperledger-fabric.readthedocs.io/en/release-1.4/endorsement-policies.html\n",
    "policy = {\n",
    "    'identities': [\n",
    "        {'role': {'name': 'member', 'mspId': 'Org1MSP'}},\n",
    "        {'role': {'name': 'admin', 'mspId': 'Org1MSP'}},\n",
    "    ],\n",
    "    'policy': {\n",
    "        '1-of': [\n",
    "            {'signed-by': 0}, {'signed-by': 1},\n",
    "        ]\n",
    "    }\n",
    "}\n",
    "response =     cli.chaincode_upgrade(\n",
    "               requestor=org1_admin,\n",
    "               channel_name='businesschannel',\n",
    "               peers=['peer0.org1.example.com'],\n",
    "               args=args,\n",
    "               cc_name='example_cc',\n",
    "               cc_version='v1.0',\n",
    "               cc_endorsement_policy=policy, # optional, but recommended\n",
    "               collections_config=None, # optional, for private data policy\n",
    "               transient_map=None, # optional, for private data\n",
    "               wait_for_event=True # optional, for being sure chaincode is upgraded\n",
    "               )\n",
    "print(response==True)"
   ]
  },
  {
   "cell_type": "markdown",
   "id": "quiet-quarterly",
   "metadata": {},
   "source": [
    "#### Invoke and query the chaincode through the Gateway This has to be done after installing and instantiating the chaincode"
   ]
  },
  {
   "cell_type": "code",
   "execution_count": 92,
   "id": "surprising-continent",
   "metadata": {
    "scrolled": false
   },
   "outputs": [
    {
     "name": "stderr",
     "output_type": "stream",
     "text": [
      "Init client with profile=test/fixtures/network.json\n",
      "create org with name=orderer.example.com\n",
      "create org with name=org1.example.com\n",
      "create org with name=org2.example.com\n",
      "create ca with name=ca-org1\n",
      "create ca with name=ca-org2\n",
      "Import orderers = dict_keys(['orderer.example.com'])\n",
      "Import peers = dict_keys(['peer0.org1.example.com', 'peer1.org1.example.com', 'peer0.org2.example.com', 'peer1.org2.example.com'])\n",
      "Init client with profile=test/fixtures/network.json\n",
      "create org with name=orderer.example.com\n",
      "create org with name=org1.example.com\n",
      "create org with name=org2.example.com\n",
      "create ca with name=ca-org1\n",
      "create ca with name=ca-org2\n",
      "Import orderers = dict_keys(['orderer.example.com'])\n",
      "Import peers = dict_keys(['peer0.org1.example.com', 'peer1.org1.example.com', 'peer0.org2.example.com', 'peer1.org2.example.com'])\n",
      "<ipython-input-92-04a056cf2b13>:14: RuntimeWarning: coroutine 'Client.chaincode_upgrade' was never awaited\n",
      "  response = await new_gateway.connect('test/fixtures/network.json', options)\n",
      "RuntimeWarning: Enable tracemalloc to get the object allocation traceback\n",
      "New channel with name = businesschannel\n",
      "create org with name=Org1MSP\n",
      "create org with name=OrdererMSP\n",
      "create org with name=Org2MSP\n",
      "Import orderers = dict_keys(['OrdererMSP'])\n",
      "Import peers = ['peer0.org1.example.com', 'peer1.org1.example.com']\n"
     ]
    },
    {
     "ename": "Exception",
     "evalue": "[version: 1\nresponse {\n  status: 200\n  payload: \"400\"\n}\npayload: \"\\n \\307\\036\\302c\\377\\220:\\021!\\026Z_ppvN\\212\\366)\\353D\\250\\365\\006\\252\\373!yd\\035\\232\\354\\022U\\n5\\022\\027\\n\\nexample_cc\\022\\t\\n\\007\\n\\001b\\022\\002\\010\\002\\022\\032\\n\\004lscc\\022\\022\\n\\020\\n\\nexample_cc\\022\\002\\010\\001\\032\\010\\010\\310\\001\\032\\003400\\\"\\022\\022\\nexample_cc\\032\\004v1.0\"\nendorsement {\n  endorser: \"\\n\\007Org1MSP\\022\\252\\006-----BEGIN CERTIFICATE-----\\nMIICKDCCAc+gAwIBAgIRAK5JdC2UorbI3GYUD7Z+I08wCgYIKoZIzj0EAwIwczEL\\nMAkGA1UEBhMCVVMxEzARBgNVBAgTCkNhbGlmb3JuaWExFjAUBgNVBAcTDVNhbiBG\\ncmFuY2lzY28xGTAXBgNVBAoTEG9yZzEuZXhhbXBsZS5jb20xHDAaBgNVBAMTE2Nh\\nLm9yZzEuZXhhbXBsZS5jb20wHhcNMTgxMDE5MDM0ODAwWhcNMjgxMDE2MDM0ODAw\\nWjBqMQswCQYDVQQGEwJVUzETMBEGA1UECBMKQ2FsaWZvcm5pYTEWMBQGA1UEBxMN\\nU2FuIEZyYW5jaXNjbzENMAsGA1UECxMEcGVlcjEfMB0GA1UEAxMWcGVlcjAub3Jn\\nMS5leGFtcGxlLmNvbTBZMBMGByqGSM49AgEGCCqGSM49AwEHA0IABF9ACNtWdD+C\\nj5hejCA9qvYEO1pbizsTZzpixLZO96Hv7Bhjke0I4m92+m1QB3j3atPbIqYR1vI8\\n5PsIwdaSnJejTTBLMA4GA1UdDwEB/wQEAwIHgDAMBgNVHRMBAf8EAjAAMCsGA1Ud\\nIwQkMCKAIGusYBVmN4/Nm4PGi5aZDUGttRUyZA3rDoT4POwdWJfSMAoGCCqGSM49\\nBAMCA0cAMEQCIDzfPy6MtrloRm00mm0dXJijLRtqu74TMCdiIz9/PsfHAiBXgK3U\\nKSPOmE1wKHkwr/SUyDPStCXkV5uO9ObjK9bbLA==\\n-----END CERTIFICATE-----\\n\"\n  signature: \"0E\\002!\\000\\230D\\001\\272\\214\\013\\237\\261]<\\334EZ\\230\\325c\\254\\216E\\213\\231\\332\\366\\242\\326\\311\\206T\\312s\\340v\\002 \\034V\\232\\006\\261(>y|\\247\\276LzZ\\355\\031vn\\247\\276Cb\\234\\tG\\202\\3626.g\\334\\n\"\n}\n, version: 1\nresponse {\n  status: 200\n  payload: \"400\"\n}\npayload: \"\\n \\307\\036\\302c\\377\\220:\\021!\\026Z_ppvN\\212\\366)\\353D\\250\\365\\006\\252\\373!yd\\035\\232\\354\\022U\\n5\\022\\027\\n\\nexample_cc\\022\\t\\n\\007\\n\\001b\\022\\002\\010\\002\\022\\032\\n\\004lscc\\022\\022\\n\\020\\n\\nexample_cc\\022\\002\\010\\001\\032\\010\\010\\310\\001\\032\\003400\\\"\\022\\022\\nexample_cc\\032\\004v1.0\"\nendorsement {\n  endorser: \"\\n\\007Org1MSP\\022\\252\\006-----BEGIN CERTIFICATE-----\\nMIICKDCCAc6gAwIBAgIQfgcrJoyNEzrp26P2X4xXsjAKBggqhkjOPQQDAjBzMQsw\\nCQYDVQQGEwJVUzETMBEGA1UECBMKQ2FsaWZvcm5pYTEWMBQGA1UEBxMNU2FuIEZy\\nYW5jaXNjbzEZMBcGA1UEChMQb3JnMS5leGFtcGxlLmNvbTEcMBoGA1UEAxMTY2Eu\\nb3JnMS5leGFtcGxlLmNvbTAeFw0xODEwMTkwMzQ4MDBaFw0yODEwMTYwMzQ4MDBa\\nMGoxCzAJBgNVBAYTAlVTMRMwEQYDVQQIEwpDYWxpZm9ybmlhMRYwFAYDVQQHEw1T\\nYW4gRnJhbmNpc2NvMQ0wCwYDVQQLEwRwZWVyMR8wHQYDVQQDExZwZWVyMS5vcmcx\\nLmV4YW1wbGUuY29tMFkwEwYHKoZIzj0CAQYIKoZIzj0DAQcDQgAE84GN+v6xoJ5h\\n386nPmdF7t8woEDdAjfJ7xwHaAUEHZ1oxSzlLem8NA7d9iK0DET63sPPZpjNlPGb\\nAeX2bUdZHqNNMEswDgYDVR0PAQH/BAQDAgeAMAwGA1UdEwEB/wQCMAAwKwYDVR0j\\nBCQwIoAga6xgFWY3j82bg8aLlpkNQa21FTJkDesOhPg87B1Yl9IwCgYIKoZIzj0E\\nAwIDSAAwRQIhAJIhj3vLtHJEGcKs1Y18xXZ40ZFMHJN3gdhMHT3igpwdAiBd+iT2\\n4slpAXDRbtViULXfqndxYaaQrxSiZGCvWdN3ng==\\n-----END CERTIFICATE-----\\n\"\n  signature: \"0E\\002!\\000\\305\\227\\224.\\0004\\256\\373Y1G\\237\\307\\n\\342\\037\\032{\\261\\274\\300R\\324\\230Kl\\021R.\\357w\\211\\002 %\\273\\317\\001 \\217\\222S\\014~;\\316\\244\\036dp\\202\\204\\262\\217A\\334h\\202)\\334O\\253\\214\\001\\342\\277\"\n}\n, response {\n  status: 500\n  message: \"make sure the chaincode example_cc has been successfully defined on channel businesschannel and try again: failed security checks: invalid deployment spec: open /var/hyperledger/production/chaincodes/example_cc.v1.0: no such file or directory\"\n}\n, response {\n  status: 500\n  message: \"make sure the chaincode example_cc has been successfully defined on channel businesschannel and try again: failed security checks: invalid deployment spec: open /var/hyperledger/production/chaincodes/example_cc.v1.0: no such file or directory\"\n}\n]",
     "output_type": "error",
     "traceback": [
      "\u001b[0;31m---------------------------------------------------------------------------\u001b[0m",
      "\u001b[0;31mException\u001b[0m                                 Traceback (most recent call last)",
      "\u001b[0;32m<ipython-input-92-04a056cf2b13>\u001b[0m in \u001b[0;36m<module>\u001b[0;34m\u001b[0m\n\u001b[1;32m     16\u001b[0m \u001b[0mnew_contract\u001b[0m \u001b[0;34m=\u001b[0m \u001b[0mnew_network\u001b[0m\u001b[0;34m.\u001b[0m\u001b[0mget_contract\u001b[0m\u001b[0;34m(\u001b[0m\u001b[0;34m'example_cc'\u001b[0m\u001b[0;34m)\u001b[0m\u001b[0;34m\u001b[0m\u001b[0;34m\u001b[0m\u001b[0m\n\u001b[1;32m     17\u001b[0m \u001b[0mresponse\u001b[0m \u001b[0;34m=\u001b[0m \u001b[0;32mawait\u001b[0m \u001b[0mnew_contract\u001b[0m\u001b[0;34m.\u001b[0m\u001b[0msubmit_transaction\u001b[0m\u001b[0;34m(\u001b[0m\u001b[0;34m'businesschannel'\u001b[0m\u001b[0;34m,\u001b[0m \u001b[0;34m[\u001b[0m\u001b[0;34m'a'\u001b[0m\u001b[0;34m,\u001b[0m \u001b[0;34m'b'\u001b[0m\u001b[0;34m,\u001b[0m \u001b[0;34m'100'\u001b[0m\u001b[0;34m]\u001b[0m\u001b[0;34m,\u001b[0m \u001b[0morg1_admin\u001b[0m\u001b[0;34m)\u001b[0m\u001b[0;34m\u001b[0m\u001b[0;34m\u001b[0m\u001b[0m\n\u001b[0;32m---> 18\u001b[0;31m \u001b[0mresponse\u001b[0m  \u001b[0;34m=\u001b[0m \u001b[0;32mawait\u001b[0m \u001b[0mnew_contract\u001b[0m\u001b[0;34m.\u001b[0m\u001b[0mevaluate_transaction\u001b[0m\u001b[0;34m(\u001b[0m\u001b[0;34m'businesschannel'\u001b[0m\u001b[0;34m,\u001b[0m \u001b[0;34m[\u001b[0m\u001b[0;34m'b'\u001b[0m\u001b[0;34m]\u001b[0m\u001b[0;34m,\u001b[0m \u001b[0morg1_admin\u001b[0m\u001b[0;34m)\u001b[0m\u001b[0;34m\u001b[0m\u001b[0;34m\u001b[0m\u001b[0m\n\u001b[0m",
      "\u001b[0;32m~/fabric-sdk-py/hfc/fabric_network/contract.py\u001b[0m in \u001b[0;36mevaluate_transaction\u001b[0;34m(self, name, args, requestor)\u001b[0m\n\u001b[1;32m     65\u001b[0m         \u001b[0mpeers\u001b[0m \u001b[0;34m=\u001b[0m \u001b[0mcli\u001b[0m\u001b[0;34m.\u001b[0m\u001b[0m_peers\u001b[0m\u001b[0;34m\u001b[0m\u001b[0;34m\u001b[0m\u001b[0m\n\u001b[1;32m     66\u001b[0m \u001b[0;34m\u001b[0m\u001b[0m\n\u001b[0;32m---> 67\u001b[0;31m         response = await cli.chaincode_query(requestor=requestor,\n\u001b[0m\u001b[1;32m     68\u001b[0m                                              \u001b[0mchannel_name\u001b[0m\u001b[0;34m=\u001b[0m\u001b[0mchannel_name\u001b[0m\u001b[0;34m,\u001b[0m\u001b[0;34m\u001b[0m\u001b[0;34m\u001b[0m\u001b[0m\n\u001b[1;32m     69\u001b[0m                                              \u001b[0mpeers\u001b[0m\u001b[0;34m=\u001b[0m\u001b[0mpeers\u001b[0m\u001b[0;34m,\u001b[0m\u001b[0;34m\u001b[0m\u001b[0;34m\u001b[0m\u001b[0m\n",
      "\u001b[0;32m~/fabric-sdk-py/hfc/fabric/client.py\u001b[0m in \u001b[0;36mchaincode_query\u001b[0;34m(self, requestor, channel_name, peers, args, cc_name, cc_type, fcn, transient_map)\u001b[0m\n\u001b[1;32m   1326\u001b[0m         \"\"\"\n\u001b[1;32m   1327\u001b[0m         \u001b[0mchaincode\u001b[0m \u001b[0;34m=\u001b[0m \u001b[0mChaincode\u001b[0m\u001b[0;34m(\u001b[0m\u001b[0mself\u001b[0m\u001b[0;34m,\u001b[0m \u001b[0mcc_name\u001b[0m\u001b[0;34m)\u001b[0m\u001b[0;34m\u001b[0m\u001b[0;34m\u001b[0m\u001b[0m\n\u001b[0;32m-> 1328\u001b[0;31m         return await chaincode.query(requestor, channel_name, peers, args,\n\u001b[0m\u001b[1;32m   1329\u001b[0m                                      \u001b[0mcc_type\u001b[0m\u001b[0;34m=\u001b[0m\u001b[0mcc_type\u001b[0m\u001b[0;34m,\u001b[0m\u001b[0;34m\u001b[0m\u001b[0;34m\u001b[0m\u001b[0m\n\u001b[1;32m   1330\u001b[0m                                      fcn=fcn, transient_map=transient_map)\n",
      "\u001b[0;32m~/fabric-sdk-py/hfc/fabric/chaincode.py\u001b[0m in \u001b[0;36mquery\u001b[0;34m(self, requestor, channel_name, peers, args, cc_type, fcn, transient_map)\u001b[0m\n\u001b[1;32m    314\u001b[0m \u001b[0;34m\u001b[0m\u001b[0m\n\u001b[1;32m    315\u001b[0m         \u001b[0;32mif\u001b[0m \u001b[0;32mnot\u001b[0m \u001b[0mall\u001b[0m\u001b[0;34m(\u001b[0m\u001b[0;34m[\u001b[0m\u001b[0mx\u001b[0m\u001b[0;34m.\u001b[0m\u001b[0mresponse\u001b[0m\u001b[0;34m.\u001b[0m\u001b[0mstatus\u001b[0m \u001b[0;34m==\u001b[0m \u001b[0mSUCCESS_STATUS\u001b[0m \u001b[0;32mfor\u001b[0m \u001b[0mx\u001b[0m \u001b[0;32min\u001b[0m \u001b[0mtran_req\u001b[0m\u001b[0;34m.\u001b[0m\u001b[0mresponses\u001b[0m\u001b[0;34m]\u001b[0m\u001b[0;34m)\u001b[0m\u001b[0;34m:\u001b[0m\u001b[0;34m\u001b[0m\u001b[0;34m\u001b[0m\u001b[0m\n\u001b[0;32m--> 316\u001b[0;31m             \u001b[0;32mraise\u001b[0m \u001b[0mException\u001b[0m\u001b[0;34m(\u001b[0m\u001b[0mres\u001b[0m\u001b[0;34m)\u001b[0m\u001b[0;34m\u001b[0m\u001b[0;34m\u001b[0m\u001b[0m\n\u001b[0m\u001b[1;32m    317\u001b[0m \u001b[0;34m\u001b[0m\u001b[0m\n\u001b[1;32m    318\u001b[0m         \u001b[0;32mreturn\u001b[0m \u001b[0mres\u001b[0m\u001b[0;34m[\u001b[0m\u001b[0;36m0\u001b[0m\u001b[0;34m]\u001b[0m\u001b[0;34m.\u001b[0m\u001b[0mresponse\u001b[0m\u001b[0;34m.\u001b[0m\u001b[0mpayload\u001b[0m\u001b[0;34m.\u001b[0m\u001b[0mdecode\u001b[0m\u001b[0;34m(\u001b[0m\u001b[0;34m'utf-8'\u001b[0m\u001b[0;34m)\u001b[0m\u001b[0;34m\u001b[0m\u001b[0;34m\u001b[0m\u001b[0m\n",
      "\u001b[0;31mException\u001b[0m: [version: 1\nresponse {\n  status: 200\n  payload: \"400\"\n}\npayload: \"\\n \\307\\036\\302c\\377\\220:\\021!\\026Z_ppvN\\212\\366)\\353D\\250\\365\\006\\252\\373!yd\\035\\232\\354\\022U\\n5\\022\\027\\n\\nexample_cc\\022\\t\\n\\007\\n\\001b\\022\\002\\010\\002\\022\\032\\n\\004lscc\\022\\022\\n\\020\\n\\nexample_cc\\022\\002\\010\\001\\032\\010\\010\\310\\001\\032\\003400\\\"\\022\\022\\nexample_cc\\032\\004v1.0\"\nendorsement {\n  endorser: \"\\n\\007Org1MSP\\022\\252\\006-----BEGIN CERTIFICATE-----\\nMIICKDCCAc+gAwIBAgIRAK5JdC2UorbI3GYUD7Z+I08wCgYIKoZIzj0EAwIwczEL\\nMAkGA1UEBhMCVVMxEzARBgNVBAgTCkNhbGlmb3JuaWExFjAUBgNVBAcTDVNhbiBG\\ncmFuY2lzY28xGTAXBgNVBAoTEG9yZzEuZXhhbXBsZS5jb20xHDAaBgNVBAMTE2Nh\\nLm9yZzEuZXhhbXBsZS5jb20wHhcNMTgxMDE5MDM0ODAwWhcNMjgxMDE2MDM0ODAw\\nWjBqMQswCQYDVQQGEwJVUzETMBEGA1UECBMKQ2FsaWZvcm5pYTEWMBQGA1UEBxMN\\nU2FuIEZyYW5jaXNjbzENMAsGA1UECxMEcGVlcjEfMB0GA1UEAxMWcGVlcjAub3Jn\\nMS5leGFtcGxlLmNvbTBZMBMGByqGSM49AgEGCCqGSM49AwEHA0IABF9ACNtWdD+C\\nj5hejCA9qvYEO1pbizsTZzpixLZO96Hv7Bhjke0I4m92+m1QB3j3atPbIqYR1vI8\\n5PsIwdaSnJejTTBLMA4GA1UdDwEB/wQEAwIHgDAMBgNVHRMBAf8EAjAAMCsGA1Ud\\nIwQkMCKAIGusYBVmN4/Nm4PGi5aZDUGttRUyZA3rDoT4POwdWJfSMAoGCCqGSM49\\nBAMCA0cAMEQCIDzfPy6MtrloRm00mm0dXJijLRtqu74TMCdiIz9/PsfHAiBXgK3U\\nKSPOmE1wKHkwr/SUyDPStCXkV5uO9ObjK9bbLA==\\n-----END CERTIFICATE-----\\n\"\n  signature: \"0E\\002!\\000\\230D\\001\\272\\214\\013\\237\\261]<\\334EZ\\230\\325c\\254\\216E\\213\\231\\332\\366\\242\\326\\311\\206T\\312s\\340v\\002 \\034V\\232\\006\\261(>y|\\247\\276LzZ\\355\\031vn\\247\\276Cb\\234\\tG\\202\\3626.g\\334\\n\"\n}\n, version: 1\nresponse {\n  status: 200\n  payload: \"400\"\n}\npayload: \"\\n \\307\\036\\302c\\377\\220:\\021!\\026Z_ppvN\\212\\366)\\353D\\250\\365\\006\\252\\373!yd\\035\\232\\354\\022U\\n5\\022\\027\\n\\nexample_cc\\022\\t\\n\\007\\n\\001b\\022\\002\\010\\002\\022\\032\\n\\004lscc\\022\\022\\n\\020\\n\\nexample_cc\\022\\002\\010\\001\\032\\010\\010\\310\\001\\032\\003400\\\"\\022\\022\\nexample_cc\\032\\004v1.0\"\nendorsement {\n  endorser: \"\\n\\007Org1MSP\\022\\252\\006-----BEGIN CERTIFICATE-----\\nMIICKDCCAc6gAwIBAgIQfgcrJoyNEzrp26P2X4xXsjAKBggqhkjOPQQDAjBzMQsw\\nCQYDVQQGEwJVUzETMBEGA1UECBMKQ2FsaWZvcm5pYTEWMBQGA1UEBxMNU2FuIEZy\\nYW5jaXNjbzEZMBcGA1UEChMQb3JnMS5leGFtcGxlLmNvbTEcMBoGA1UEAxMTY2Eu\\nb3JnMS5leGFtcGxlLmNvbTAeFw0xODEwMTkwMzQ4MDBaFw0yODEwMTYwMzQ4MDBa\\nMGoxCzAJBgNVBAYTAlVTMRMwEQYDVQQIEwpDYWxpZm9ybmlhMRYwFAYDVQQHEw1T\\nYW4gRnJhbmNpc2NvMQ0wCwYDVQQLEwRwZWVyMR8wHQYDVQQDExZwZWVyMS5vcmcx\\nLmV4YW1wbGUuY29tMFkwEwYHKoZIzj0CAQYIKoZIzj0DAQcDQgAE84GN+v6xoJ5h\\n386nPmdF7t8woEDdAjfJ7xwHaAUEHZ1oxSzlLem8NA7d9iK0DET63sPPZpjNlPGb\\nAeX2bUdZHqNNMEswDgYDVR0PAQH/BAQDAgeAMAwGA1UdEwEB/wQCMAAwKwYDVR0j\\nBCQwIoAga6xgFWY3j82bg8aLlpkNQa21FTJkDesOhPg87B1Yl9IwCgYIKoZIzj0E\\nAwIDSAAwRQIhAJIhj3vLtHJEGcKs1Y18xXZ40ZFMHJN3gdhMHT3igpwdAiBd+iT2\\n4slpAXDRbtViULXfqndxYaaQrxSiZGCvWdN3ng==\\n-----END CERTIFICATE-----\\n\"\n  signature: \"0E\\002!\\000\\305\\227\\224.\\0004\\256\\373Y1G\\237\\307\\n\\342\\037\\032{\\261\\274\\300R\\324\\230Kl\\021R.\\357w\\211\\002 %\\273\\317\\001 \\217\\222S\\014~;\\316\\244\\036dp\\202\\204\\262\\217A\\334h\\202)\\334O\\253\\214\\001\\342\\277\"\n}\n, response {\n  status: 500\n  message: \"make sure the chaincode example_cc has been successfully defined on channel businesschannel and try again: failed security checks: invalid deployment spec: open /var/hyperledger/production/chaincodes/example_cc.v1.0: no such file or directory\"\n}\n, response {\n  status: 500\n  message: \"make sure the chaincode example_cc has been successfully defined on channel businesschannel and try again: failed security checks: invalid deployment spec: open /var/hyperledger/production/chaincodes/example_cc.v1.0: no such file or directory\"\n}\n]"
     ]
    }
   ],
   "source": [
    "import asyncio\n",
    "from hfc.fabric_network.gateway import Gateway\n",
    "from hfc.fabric_network.network import Network\n",
    "from hfc.fabric_network.contract import Contract\n",
    "from hfc.fabric import Client\n",
    "\n",
    "loop = asyncio.get_event_loop()\n",
    "\n",
    "cli = Client(net_profile=\"test/fixtures/network.json\")\n",
    "org1_admin = cli.get_user(org_name='org1.example.com', name='Admin')\n",
    "\n",
    "new_gateway = Gateway() # Creates a new gateway instance\n",
    "options = {'wallet': ''}\n",
    "response = await new_gateway.connect('test/fixtures/network.json', options)\n",
    "new_network = await new_gateway.get_network('businesschannel', org1_admin)\n",
    "new_contract = new_network.get_contract('example_cc')\n",
    "response = await new_contract.submit_transaction('businesschannel', ['a', 'b', '100'], org1_admin)\n",
    "response  = await new_contract.evaluate_transaction('businesschannel', ['b'], org1_admin)"
   ]
  },
  {
   "cell_type": "markdown",
   "id": "internal-dietary",
   "metadata": {},
   "source": [
    "### Get channel configuration"
   ]
  },
  {
   "cell_type": "code",
   "execution_count": 96,
   "id": "graduate-nation",
   "metadata": {},
   "outputs": [
    {
     "name": "stderr",
     "output_type": "stream",
     "text": [
      "Init client with profile=test/fixtures/network.json\n",
      "create org with name=orderer.example.com\n",
      "create org with name=org1.example.com\n",
      "create org with name=org2.example.com\n",
      "create ca with name=ca-org1\n",
      "create ca with name=ca-org2\n",
      "Import orderers = dict_keys(['orderer.example.com'])\n",
      "Import peers = dict_keys(['peer0.org1.example.com', 'peer1.org1.example.com', 'peer0.org2.example.com', 'peer1.org2.example.com'])\n"
     ]
    },
    {
     "name": "stdout",
     "output_type": "stream",
     "text": [
      "<coroutine object Client.get_channel_config at 0x7fbb3ff98a40>\n"
     ]
    },
    {
     "name": "stderr",
     "output_type": "stream",
     "text": [
      "<ipython-input-96-5a3786d69021>:9: RuntimeWarning: coroutine 'Client.get_channel_config' was never awaited\n",
      "  response = cli.get_channel_config(\n",
      "RuntimeWarning: Enable tracemalloc to get the object allocation traceback\n"
     ]
    }
   ],
   "source": [
    "import asyncio\n",
    "from hfc.fabric import Client\n",
    "\n",
    "loop = asyncio.get_event_loop()\n",
    "cli = Client(net_profile=\"test/fixtures/network.json\")\n",
    "org1_admin = cli.get_user('org1.example.com', 'Admin')\n",
    "\n",
    "# Get channel config\n",
    "response = cli.get_channel_config(\n",
    "               requestor=org1_admin,\n",
    "               channel_name='businesschannel',\n",
    "               peers=['peer0.org1.example.com'],\n",
    "               decode=True\n",
    "               )\n",
    "print(response)"
   ]
  },
  {
   "cell_type": "markdown",
   "id": "flexible-recruitment",
   "metadata": {},
   "source": [
    "### Use channel discovery"
   ]
  },
  {
   "cell_type": "code",
   "execution_count": 98,
   "id": "absolute-superior",
   "metadata": {},
   "outputs": [
    {
     "name": "stderr",
     "output_type": "stream",
     "text": [
      "Init client with profile=test/fixtures/network.json\n",
      "create org with name=orderer.example.com\n",
      "create org with name=org1.example.com\n",
      "create org with name=org2.example.com\n",
      "create ca with name=ca-org1\n",
      "create ca with name=ca-org2\n",
      "Import orderers = dict_keys(['orderer.example.com'])\n",
      "Import peers = dict_keys(['peer0.org1.example.com', 'peer1.org1.example.com', 'peer0.org2.example.com', 'peer1.org2.example.com'])\n",
      "New channel with name = discover-local\n",
      "<ipython-input-98-677968f24fb4>:9: RuntimeWarning: coroutine 'Client.get_channel_config' was never awaited\n",
      "  response = await cli.query_peers(\n",
      "RuntimeWarning: Enable tracemalloc to get the object allocation traceback\n",
      "New channel with name = businesschannel\n"
     ]
    }
   ],
   "source": [
    "import asyncio\n",
    "from hfc.fabric import Client\n",
    "\n",
    "loop = asyncio.get_event_loop()\n",
    "cli = Client(net_profile=\"test/fixtures/network.json\")\n",
    "org1_admin = cli.get_user('org1.example.com', 'Admin')\n",
    "\n",
    "# Get config from local channel discovery\n",
    "response = await cli.query_peers(\n",
    "               requestor=org1_admin,\n",
    "               peer='peer0.org1.example.com',\n",
    "               channel='businesschannel',\n",
    "               local=True,\n",
    "               decode=True\n",
    "               )\n",
    "\n",
    "# Get config from channel discovery over the network\n",
    "response = await cli.query_peers(\n",
    "               requestor=org1_admin,\n",
    "               peer='peer0.org1.example.com',\n",
    "               channel='businesschannel',\n",
    "               local=False,\n",
    "               decode=True\n",
    "               )"
   ]
  },
  {
   "cell_type": "code",
   "execution_count": null,
   "id": "established-finance",
   "metadata": {},
   "outputs": [],
   "source": []
  }
 ],
 "metadata": {
  "kernelspec": {
   "display_name": "Python 3",
   "language": "python",
   "name": "python3"
  },
  "language_info": {
   "codemirror_mode": {
    "name": "ipython",
    "version": 3
   },
   "file_extension": ".py",
   "mimetype": "text/x-python",
   "name": "python",
   "nbconvert_exporter": "python",
   "pygments_lexer": "ipython3",
   "version": "3.8.5"
  }
 },
 "nbformat": 4,
 "nbformat_minor": 5
}
