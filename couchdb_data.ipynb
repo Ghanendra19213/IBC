{
 "cells": [
  {
   "cell_type": "markdown",
   "id": "fewer-origin",
   "metadata": {},
   "source": [
    "### Storing genomic data onto couchDB database"
   ]
  },
  {
   "cell_type": "code",
   "execution_count": 1,
   "id": "naked-treasure",
   "metadata": {},
   "outputs": [],
   "source": [
    "import couchdb\n",
    "import json"
   ]
  },
  {
   "cell_type": "code",
   "execution_count": 6,
   "id": "circular-netscape",
   "metadata": {},
   "outputs": [
    {
     "name": "stdout",
     "output_type": "stream",
     "text": [
      "Server created:  <Database 'sample_gennomic_data'>\n",
      "gene_data {'name': {'g1': 'MEC1', 'g2': 'RAD53', 'g3': 'MRC1'}, 'variant': {'v1': 'CDC25', 'v2': 'ADC1', 'v3': 'PMR1'}, 'drug': {'d1': 'cetrazine', 'd2': 'methamin', 'd3': 'donzaphine'}}\n"
     ]
    },
    {
     "data": {
      "text/plain": [
       "('ad60ffd3357e1832cf853ec904001fcd', '1-f1cdd633012464faf9dad87f9ec494aa')"
      ]
     },
     "execution_count": 6,
     "metadata": {},
     "output_type": "execute_result"
    }
   ],
   "source": [
    "# Start couchdb server at port 5984\n",
    "server = couchdb.Server('http://127.0.0.1:5984/')\n",
    "\n",
    "#Create a new empty database\n",
    "db = server.create('sample_gennomic_data')\n",
    "print('Server created: ',db)\n",
    "\n",
    "#Sample json data\n",
    "test_gene = {\n",
    "    \n",
    "    'name': {\n",
    "        'g1':'MEC1',\n",
    "        'g2':'RAD53',\n",
    "        'g3':'MRC1'\n",
    "    },\n",
    "    'variant':{\n",
    "        'v1':'CDC25',\n",
    "        'v2':'ADC1',\n",
    "        'v3':'PMR1'\n",
    "    },\n",
    "    'drug':{\n",
    "        'd1':'cetrazine',\n",
    "        'd2':'methamin',\n",
    "        'd3':'donzaphine'\n",
    "    }\n",
    "    \n",
    "}\n",
    "\n",
    "print('gene_data',test_gene)\n",
    "\n",
    "#Save data on the couchdb\n",
    "db.save(test_gene)\n"
   ]
  },
  {
   "cell_type": "code",
   "execution_count": 7,
   "id": "metric-subdivision",
   "metadata": {},
   "outputs": [
    {
     "data": {
      "text/plain": [
       "('ad60ffd3357e1832cf853ec904004679', '1-a7df512e359a6d180cbd7dd212d59570')"
      ]
     },
     "execution_count": 7,
     "metadata": {},
     "output_type": "execute_result"
    }
   ],
   "source": [
    "# Write Longetivity data onto database\n",
    "\n",
    "db2 = server.create('longetivity_data')\n",
    "\n",
    "with open('data/longitivity_data.json') as f:\n",
    "    data = json.load(f)\n",
    "db2.save(data)"
   ]
  },
  {
   "cell_type": "code",
   "execution_count": null,
   "id": "infinite-reply",
   "metadata": {},
   "outputs": [],
   "source": []
  }
 ],
 "metadata": {
  "kernelspec": {
   "display_name": "Python 3",
   "language": "python",
   "name": "python3"
  },
  "language_info": {
   "codemirror_mode": {
    "name": "ipython",
    "version": 3
   },
   "file_extension": ".py",
   "mimetype": "text/x-python",
   "name": "python",
   "nbconvert_exporter": "python",
   "pygments_lexer": "ipython3",
   "version": "3.8.5"
  }
 },
 "nbformat": 4,
 "nbformat_minor": 5
}
