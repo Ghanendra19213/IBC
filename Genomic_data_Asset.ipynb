{
 "cells": [
  {
   "cell_type": "markdown",
   "id": "assumed-hawaii",
   "metadata": {},
   "source": [
    "# Storing Human Ageing Genomic data using Hyperledger Fabric"
   ]
  },
  {
   "cell_type": "markdown",
   "id": "swiss-router",
   "metadata": {},
   "source": [
    "### Client"
   ]
  },
  {
   "cell_type": "code",
   "execution_count": 1,
   "id": "august-extreme",
   "metadata": {},
   "outputs": [
    {
     "name": "stderr",
     "output_type": "stream",
     "text": [
      "Init client with profile=test/fixtures/network.json\n",
      "create org with name=orderer.example.com\n",
      "create org with name=org1.example.com\n",
      "create org with name=org2.example.com\n",
      "create ca with name=ca-org1\n",
      "create ca with name=ca-org2\n",
      "Import orderers = dict_keys(['orderer.example.com'])\n",
      "Import peers = dict_keys(['peer0.org1.example.com', 'peer1.org1.example.com', 'peer0.org2.example.com', 'peer1.org2.example.com'])\n"
     ]
    },
    {
     "name": "stdout",
     "output_type": "stream",
     "text": [
      "{'orderer.example.com': <hfc.fabric.organization.Organization object at 0x7fec5043b8b0>, 'org1.example.com': <hfc.fabric.organization.Organization object at 0x7fec31127b20>, 'org2.example.com': <hfc.fabric.organization.Organization object at 0x7fec31127df0>}\n",
      "{'peer0.org1.example.com': <hfc.fabric.peer.Peer object at 0x7fec3112b640>, 'peer1.org1.example.com': <hfc.fabric.peer.Peer object at 0x7fec3112bd00>, 'peer0.org2.example.com': <hfc.fabric.peer.Peer object at 0x7fec3112bf10>, 'peer1.org2.example.com': <hfc.fabric.peer.Peer object at 0x7fec3112b9d0>}\n",
      "{'orderer.example.com': <hfc.fabric.orderer.Orderer object at 0x7fec50480ac0>}\n",
      "{'ca-org1': <hfc.fabric.certificateAuthority.certificateAuthority object at 0x7fec3112b1c0>, 'ca-org2': <hfc.fabric.certificateAuthority.certificateAuthority object at 0x7fec3112b1f0>}\n"
     ]
    }
   ],
   "source": [
    "#import hyperledger fabric library\n",
    "from hfc.fabric import Client\n",
    "\n",
    "# Define client object to access fabric network functions\n",
    "cli = Client(net_profile=\"test/fixtures/network.json\")\n",
    "\n",
    "print(cli.organizations)  # orgs in the network\n",
    "print(cli.peers)  # peers in the network\n",
    "print(cli.orderers)  # orderers in the network\n",
    "print(cli.CAs)  # ca nodes in the network\n",
    "\n",
    "# Define admins for the organisations and ordering service\n",
    "org1_admin = cli.get_user(org_name='org1.example.com', name='Admin') # User instance with the Org1 admin's certs\n",
    "org2_admin = cli.get_user(org_name='org2.example.com', name='Admin') # User instance with the Org2 admin's certs\n",
    "orderer_admin = cli.get_user(org_name='orderer.example.com', name='Admin') # User instance with the orderer's certs"
   ]
  },
  {
   "cell_type": "markdown",
   "id": "absolute-debate",
   "metadata": {},
   "source": [
    "### Create a Healthcare channel and let the users(peers) join the channel"
   ]
  },
  {
   "cell_type": "code",
   "execution_count": 3,
   "id": "incomplete-breath",
   "metadata": {},
   "outputs": [
    {
     "name": "stderr",
     "output_type": "stream",
     "text": [
      "FABRIC_CFG_PATH set to /home/ghanendra/fabric-sdk-py/test/fixtures/e2e_cli/\n",
      "Configtx file successfully created in current             directory\n",
      "{'tx_id': 'e50084eff936ec6e035385ee44479521cdf7c4e12ebd4c091cf9e08126867418', 'nonce': b'\\x17C\\x16\\x7f7t(/\\x07\\xb2t\\x07\\xfd\\x1a\\xd7R\\xde\\x10\\x04\\xba\\xc9E\\xd3\\xe8', 'signatures': [b'\\n\\xd3\\x06\\n\\xb6\\x06\\n\\x07Org1MSP\\x12\\xaa\\x06-----BEGIN CERTIFICATE-----\\nMIICKjCCAdCgAwIBAgIQEn3uLYlL4sXXQBS1/k8u7zAKBggqhkjOPQQDAjBzMQsw\\nCQYDVQQGEwJVUzETMBEGA1UECBMKQ2FsaWZvcm5pYTEWMBQGA1UEBxMNU2FuIEZy\\nYW5jaXNjbzEZMBcGA1UEChMQb3JnMS5leGFtcGxlLmNvbTEcMBoGA1UEAxMTY2Eu\\nb3JnMS5leGFtcGxlLmNvbTAeFw0xODEwMTkwMzQ4MDBaFw0yODEwMTYwMzQ4MDBa\\nMGwxCzAJBgNVBAYTAlVTMRMwEQYDVQQIEwpDYWxpZm9ybmlhMRYwFAYDVQQHEw1T\\nYW4gRnJhbmNpc2NvMQ8wDQYDVQQLEwZjbGllbnQxHzAdBgNVBAMMFkFkbWluQG9y\\nZzEuZXhhbXBsZS5jb20wWTATBgcqhkjOPQIBBggqhkjOPQMBBwNCAAR2zFPDBYIy\\njZSXaB15ILW9MRUYkSiksD6Io+VBbsJex2S7Do7lJhYfpyg5Z1LEHLCQgHH/VJ1F\\nMZmNHgIIHqWPo00wSzAOBgNVHQ8BAf8EBAMCB4AwDAYDVR0TAQH/BAIwADArBgNV\\nHSMEJDAigCBrrGAVZjePzZuDxouWmQ1BrbUVMmQN6w6E+DzsHViX0jAKBggqhkjO\\nPQQDAgNIADBFAiEA0FGz0YuvjPaKGy0h7+AUGJ+02O78VIIJx3wX1SL0ODMCIHSN\\nDX1FwttwXOkNiLBOi9sz04bOXz6ALO0xXtZCE4pi\\n-----END CERTIFICATE-----\\n\\x12\\x18\\x17C\\x16\\x7f7t(/\\x07\\xb2t\\x07\\xfd\\x1a\\xd7R\\xde\\x10\\x04\\xba\\xc9E\\xd3\\xe8\\x12G0E\\x02!\\x00\\xdc\\xdf\\xf7\\xb0\\xe9\\x86\\xb6\\xfe\\xeb\\xc3\\x97\\xebN\\xcd\\xea\\x81\\xab\\xde&\\x8c\\x07\\xaa\\x18\\xdb\\xc7\\x07\\xe6\\x1f\\x95\\xfa\\xd8f\\x02 *\\xc6\\\\1\\x89pwLGi\\\\\\xffv\\xbegX$\\xb6g6c\\xf5\\xd3\\xfdR\\xed\\x1f\\xdb\\xe6\\x82?\\x0c'], 'config': b'\\n\\x11healthcarechannel\\x12;\\x12)\\n\\x0bApplication\\x12\\x1a\\x12\\x0b\\n\\x07Org1MSP\\x12\\x00\\x12\\x0b\\n\\x07Org2MSP\\x12\\x00\\x1a\\x0e\\n\\nConsortium\\x12\\x00\\x1a\\xed\\x01\\x12\\xc6\\x01\\n\\x0bApplication\\x12\\xb6\\x01\\x08\\x01\\x12\\x0b\\n\\x07Org1MSP\\x12\\x00\\x12\\x0b\\n\\x07Org2MSP\\x12\\x00\\x1a$\\n\\x0cCapabilities\\x12\\x14\\x12\\n\\n\\x08\\n\\x04V1_3\\x12\\x00\\x1a\\x06Admins\"\"\\n\\x07Readers\\x12\\x17\\x12\\r\\x08\\x03\\x12\\t\\n\\x07Readers\\x1a\\x06Admins\"\"\\n\\x07Writers\\x12\\x17\\x12\\r\\x08\\x03\\x12\\t\\n\\x07Writers\\x1a\\x06Admins\"\"\\n\\x06Admins\\x12\\x18\\x12\\x0e\\x08\\x03\\x12\\n\\n\\x06Admins\\x10\\x02\\x1a\\x06Admins*\\x06Admins\\x1a\"\\n\\nConsortium\\x12\\x14\\x12\\x12\\n\\x10SampleConsortium', 'orderer': <hfc.fabric.orderer.Orderer object at 0x7fec50480ac0>, 'channel_name': 'healthcarechannel'}\n",
      "_create_or_update_channel - start\n",
      "_create_or_update_channel - have config_update\n",
      "New channel with name = healthcarechannel\n",
      "get genesis block successfully, block=data_hash: \"D\\021\\0349\\266\\225\\342\\026Li\\221lh\\317\\221i\\022\\322\\243\\373\\252\\236E\\214V\\353\\202\\375o\\026eO\"\n",
      "\n"
     ]
    },
    {
     "name": "stdout",
     "output_type": "stream",
     "text": [
      "True\n"
     ]
    },
    {
     "name": "stderr",
     "output_type": "stream",
     "text": [
      "get genesis block successfully, block=data_hash: \"D\\021\\0349\\266\\225\\342\\026Li\\221lh\\317\\221i\\022\\322\\243\\373\\252\\236E\\214V\\353\\202\\375o\\026eO\"\n",
      "\n"
     ]
    },
    {
     "name": "stdout",
     "output_type": "stream",
     "text": [
      "True\n",
      "True\n"
     ]
    }
   ],
   "source": [
    "response = await cli.channel_create(\n",
    "                    orderer='orderer.example.com',\n",
    "                    channel_name='healthcarechannel',\n",
    "                    requestor=org1_admin,\n",
    "                    config_yaml='test/fixtures/e2e_cli/',\n",
    "                    channel_profile='TwoOrgsChannel'\n",
    "                    )\n",
    "\n",
    "# response = true is returned if the channel is created successfully\n",
    "print(response==True)\n",
    "\n",
    "responses = await cli.channel_join(\n",
    "                       requestor=org1_admin,\n",
    "                       channel_name='healthcarechannel',\n",
    "                       peers=['peer0.org1.example.com',\n",
    "                      'peer1.org1.example.com'],\n",
    "                       orderer='orderer.example.com'\n",
    "                       )\n",
    "\n",
    "# The length of the response should be two as len(peers) = 2\n",
    "print(len(responses) == 2)\n",
    "\n",
    "responses = await cli.channel_join(\n",
    "                       requestor=org2_admin,\n",
    "                       channel_name='healthcarechannel',\n",
    "                       peers=['peer0.org2.example.com',\n",
    "                      'peer1.org2.example.com'],\n",
    "                       orderer='orderer.example.com'\n",
    "                       )\n",
    "\n",
    "# The length of the response should be two as len(peers) = 2\n",
    "print(len(responses) == 2)"
   ]
  },
  {
   "cell_type": "markdown",
   "id": "annoying-aircraft",
   "metadata": {},
   "source": [
    "### Install Chaincode to peers of organisation 1"
   ]
  },
  {
   "cell_type": "code",
   "execution_count": 4,
   "id": "lasting-laundry",
   "metadata": {},
   "outputs": [
    {
     "name": "stderr",
     "output_type": "stream",
     "text": [
      "New channel with name = healthcarechannel\n"
     ]
    },
    {
     "name": "stdout",
     "output_type": "stream",
     "text": [
      "[response {\n",
      "  status: 200\n",
      "  payload: \"OK\"\n",
      "}\n",
      ", response {\n",
      "  status: 200\n",
      "  payload: \"OK\"\n",
      "}\n",
      "]\n"
     ]
    }
   ],
   "source": [
    "# This installs the example chaincode on the peers\n",
    "# Make the client know there is a channel in the network\n",
    "cli.new_channel('healthcarechannel')\n",
    "\n",
    "#The GOPTAH settings is required for only running the example chaincode in the SDK\n",
    "import os\n",
    "gopath_bak = os.environ.get('GOPATH', '')\n",
    "gopath = os.path.normpath(os.path.join(\n",
    "                      os.path.dirname(os.path.realpath('__file__')),\n",
    "                      'test/fixtures/chaincode/'\n",
    "                     ))\n",
    "\n",
    "os.environ['GOPATH'] = os.path.abspath(gopath)\n",
    "\n",
    "# The response should be true (status 200)\n",
    "response = await cli.chaincode_install(\n",
    "               requestor=org1_admin,\n",
    "               peers=['peer0.org1.example.com',\n",
    "                      'peer1.org1.example.com'],\n",
    "               cc_path='github.com/genomic_cc',\n",
    "               cc_name='genomic_cc',\n",
    "               cc_version='v1.0'\n",
    "               )\n",
    "print(response)"
   ]
  },
  {
   "cell_type": "markdown",
   "id": "legal-lawyer",
   "metadata": {},
   "source": [
    "### Install Chaincode to peers of organisation 2"
   ]
  },
  {
   "cell_type": "code",
   "execution_count": 5,
   "id": "sporting-genre",
   "metadata": {},
   "outputs": [
    {
     "name": "stdout",
     "output_type": "stream",
     "text": [
      "[response {\n",
      "  status: 200\n",
      "  payload: \"OK\"\n",
      "}\n",
      ", response {\n",
      "  status: 200\n",
      "  payload: \"OK\"\n",
      "}\n",
      "]\n"
     ]
    }
   ],
   "source": [
    "# The response should be true (status 200)\n",
    "response = await cli.chaincode_install(\n",
    "               requestor=org2_admin,\n",
    "               peers=['peer0.org2.example.com',\n",
    "                      'peer1.org2.example.com'],\n",
    "               cc_path='github.com/genomic_cc',\n",
    "               cc_name='genomic_cc',\n",
    "               cc_version='v1.0'\n",
    "               )\n",
    "print(response)"
   ]
  },
  {
   "cell_type": "markdown",
   "id": "thick-infection",
   "metadata": {},
   "source": [
    "### Query Installed Chaincodes"
   ]
  },
  {
   "cell_type": "code",
   "execution_count": 9,
   "id": "abandoned-anaheim",
   "metadata": {},
   "outputs": [
    {
     "name": "stderr",
     "output_type": "stream",
     "text": [
      "cc name genomic_cc, version v1.0, path github.com/genomic_cc\n",
      "cc name genomic_cc, version v1.0, path github.com/genomic_cc\n",
      "cc name genomic_cc, version v1.0, path github.com/genomic_cc\n",
      "cc name genomic_cc, version v1.0, path github.com/genomic_cc\n"
     ]
    },
    {
     "name": "stdout",
     "output_type": "stream",
     "text": [
      "[chaincodes {\n",
      "  name: \"genomic_cc\"\n",
      "  version: \"v1.0\"\n",
      "  path: \"github.com/genomic_cc\"\n",
      "  id: \"\\211e\\345\\037\\331\\007Y\\230W\\001^R\\341\\\\\\322c.E4\\221\\r\\213\\361ts/\\227)N\\364\\231\\371\"\n",
      "}\n",
      ", chaincodes {\n",
      "  name: \"genomic_cc\"\n",
      "  version: \"v1.0\"\n",
      "  path: \"github.com/genomic_cc\"\n",
      "  id: \"\\211e\\345\\037\\331\\007Y\\230W\\001^R\\341\\\\\\322c.E4\\221\\r\\213\\361ts/\\227)N\\364\\231\\371\"\n",
      "}\n",
      "]\n",
      "[chaincodes {\n",
      "  name: \"genomic_cc\"\n",
      "  version: \"v1.0\"\n",
      "  path: \"github.com/genomic_cc\"\n",
      "  id: \"\\211e\\345\\037\\331\\007Y\\230W\\001^R\\341\\\\\\322c.E4\\221\\r\\213\\361ts/\\227)N\\364\\231\\371\"\n",
      "}\n",
      ", chaincodes {\n",
      "  name: \"genomic_cc\"\n",
      "  version: \"v1.0\"\n",
      "  path: \"github.com/genomic_cc\"\n",
      "  id: \"\\211e\\345\\037\\331\\007Y\\230W\\001^R\\341\\\\\\322c.E4\\221\\r\\213\\361ts/\\227)N\\364\\231\\371\"\n",
      "}\n",
      "]\n"
     ]
    }
   ],
   "source": [
    "#Query Installed Chaincodes\n",
    "\n",
    "response = await cli.query_installed_chaincodes(\n",
    "    requestor=org1_admin,\n",
    "    peers=['peer0.org1.example.com','peer1.org1.example.com'],\n",
    "    )\n",
    "print(response)\n",
    "\n",
    "response = await cli.query_installed_chaincodes(\n",
    "    requestor=org2_admin,\n",
    "    peers=['peer0.org2.example.com','peer1.org2.example.com'],\n",
    "    )\n",
    "print(response)"
   ]
  },
  {
   "cell_type": "markdown",
   "id": "nervous-reservation",
   "metadata": {},
   "source": [
    "### Instantiate Chaincode in Channel"
   ]
  },
  {
   "cell_type": "code",
   "execution_count": 10,
   "id": "final-poker",
   "metadata": {},
   "outputs": [
    {
     "name": "stdout",
     "output_type": "stream",
     "text": [
      "{'name': 'genomic_cc', 'version': 'v1.0', 'escc': 'escc', 'vscc': 'vscc', 'policy': {'version': 0, 'rule': {'n_out_of': {'n': 1, 'rules': [{'signed_by': 0}]}}, 'identities': [{'principal_classification': 'ROLE', 'principal': {'msp_identifier': 'Org1MSP', 'role': 'MEMBER'}}]}, 'data': {'hash': b'\\x9d\\xc4\\xd4,\\x08\\x93\\xcc\\xa6>\\xea\\xa9\\xf6\\xe3\\x0f9\\xd5\\xcf.\\x87\\x9b\\xd2\\xb3\\xb8w\\xfa\\xeail\\xfdK\\xc9 ', 'metadatahash': b'xI\\x91\\x83\\xe5\\x9b\\xb3\\n\\x85\\x99\\xe0[\\xad\\xbd\\xa2\\x084e\\x1e\\xfc\\xc1R>\\x96\\xf1\\x80/\\x80\\x1a\\x0c\\x13\\xc2'}, 'id': b'\\x89e\\xe5\\x1f\\xd9\\x07Y\\x98W\\x01^R\\xe1\\\\\\xd2c.E4\\x91\\r\\x8b\\xf1ts/\\x97)N\\xf4\\x99\\xf9', 'instantiation_policy': {'version': 0, 'rule': {'n_out_of': {'n': 1, 'rules': [{'signed_by': 0}, {'signed_by': 1}]}}, 'identities': [{'principal_classification': 'ROLE', 'principal': {'msp_identifier': 'Org1MSP', 'role': 'ADMIN'}}, {'principal_classification': 'ROLE', 'principal': {'msp_identifier': 'Org2MSP', 'role': 'ADMIN'}}]}}\n"
     ]
    }
   ],
   "source": [
    "#Instantiate Chaincode in Channel, the response should be true if succeed\n",
    "\n",
    "# This policy specifies the endorsement policy which is required while instantiating the chaincode\n",
    "policy = {\n",
    "    'identities': [\n",
    "        {'role': {'name': 'member', 'mspId': 'Org1MSP'}},\n",
    "    ],\n",
    "    'policy': {\n",
    "        '1-of': [\n",
    "            {'signed-by': 0},\n",
    "        ]\n",
    "    }\n",
    "}\n",
    "\n",
    "\n",
    "cc_config = [\n",
    "    {\n",
    "         \"name\": \"collectionGenes\",\n",
    "         \"policy\": policy,\n",
    "         \"requiredPeerCount\": 0,\n",
    "         \"maxPeerCount\": 3,\n",
    "         \"blockToLive\":1000000,\n",
    "         \"memberOnlyRead\": True\n",
    "    },\n",
    "  \n",
    "    {\n",
    "         \"name\": \"collectionGenesPrivateDetails\",\n",
    "         \"policy\": policy,\n",
    "         \"requiredPeerCount\": 0,\n",
    "         \"maxPeerCount\": 3,\n",
    "         \"blockToLive\":3,\n",
    "         \"memberOnlyRead\": True\n",
    "    }\n",
    "\n",
    "]\n",
    "\n",
    "#args = ['1', 'Ron', 'Finnish', 'Mec1','99','23','Mec2','15']\n",
    "# gene1 = '{\"id\":12,\"name\":\"Dennis\",\"population\":\"Americana\",\"gene\":\"APO1\",\"size\":320,\"age\":27,\"varient\":\"APO3\",\"price\":91}'\n",
    "# tmap = {'gene':gene1.encode()}\n",
    "\n",
    "\n",
    "response = await cli.chaincode_instantiate(\n",
    "               requestor=org1_admin,\n",
    "               channel_name='healthcarechannel',\n",
    "               peers=['peer0.org1.example.com'],\n",
    "               args=None,\n",
    "               cc_name='genomic_cc',\n",
    "               cc_version='v1.0',\n",
    "               cc_endorsement_policy=policy, # optional, but recommended\n",
    "               collections_config=cc_config, # optional, for private data policy\n",
    "               transient_map=None, # optional, for private data\n",
    "               wait_for_event=True # optional, for being sure chaincode is instantiated\n",
    "               )\n",
    "print(response)"
   ]
  },
  {
   "cell_type": "markdown",
   "id": "incorporate-kingdom",
   "metadata": {},
   "source": [
    "### Query Instantiated Chaincodes"
   ]
  },
  {
   "cell_type": "code",
   "execution_count": 12,
   "id": "gorgeous-solid",
   "metadata": {},
   "outputs": [
    {
     "name": "stderr",
     "output_type": "stream",
     "text": [
      "cc name genomic_cc, version v1.0, path github.com/genomic_cc\n",
      "cc name genomic_cc, version v1.0, path github.com/genomic_cc\n",
      "cc name genomic_cc, version v1.0, path github.com/genomic_cc\n",
      "cc name genomic_cc, version v1.0, path github.com/genomic_cc\n"
     ]
    },
    {
     "name": "stdout",
     "output_type": "stream",
     "text": [
      "[chaincodes {\n",
      "  name: \"genomic_cc\"\n",
      "  version: \"v1.0\"\n",
      "  path: \"github.com/genomic_cc\"\n",
      "  input: \"<nil>\"\n",
      "  escc: \"escc\"\n",
      "  vscc: \"vscc\"\n",
      "}\n",
      ", chaincodes {\n",
      "  name: \"genomic_cc\"\n",
      "  version: \"v1.0\"\n",
      "  path: \"github.com/genomic_cc\"\n",
      "  input: \"<nil>\"\n",
      "  escc: \"escc\"\n",
      "  vscc: \"vscc\"\n",
      "}\n",
      ", chaincodes {\n",
      "  name: \"genomic_cc\"\n",
      "  version: \"v1.0\"\n",
      "  path: \"github.com/genomic_cc\"\n",
      "  input: \"<nil>\"\n",
      "  escc: \"escc\"\n",
      "  vscc: \"vscc\"\n",
      "}\n",
      ", chaincodes {\n",
      "  name: \"genomic_cc\"\n",
      "  version: \"v1.0\"\n",
      "  path: \"github.com/genomic_cc\"\n",
      "  input: \"<nil>\"\n",
      "  escc: \"escc\"\n",
      "  vscc: \"vscc\"\n",
      "}\n",
      "]\n"
     ]
    }
   ],
   "source": [
    "response = await cli.query_instantiated_chaincodes(\n",
    "    requestor=org2_admin,\n",
    "    channel_name='healthcarechannel',\n",
    "    peers=['peer0.org1.example.com','peer1.org1.example.com','peer0.org2.example.com','peer1.org2.example.com'],\n",
    "    )\n",
    "print(response)"
   ]
  },
  {
   "cell_type": "markdown",
   "id": "mathematical-pontiac",
   "metadata": {},
   "source": [
    "### Initialize a gene"
   ]
  },
  {
   "cell_type": "code",
   "execution_count": 19,
   "id": "psychological-there",
   "metadata": {},
   "outputs": [
    {
     "name": "stdout",
     "output_type": "stream",
     "text": [
      "\n",
      "This gene already exists: John\n"
     ]
    }
   ],
   "source": [
    "# Initialize a gene\n",
    "\n",
    "gene1 = '{\"id\":12,\"name\":\"Dennis\",\"population\":\"American\",\"gene\":\"APO1\",\"size\":320,\"age\":27,\"varient\":\"APO3\",\"price\":91}'\n",
    "tmap = {'gene':gene1.encode()}\n",
    "\n",
    "response = await cli.chaincode_invoke(\n",
    "               requestor=org1_admin,\n",
    "               channel_name='healthcarechannel',\n",
    "               peers=['peer0.org1.example.com'],\n",
    "               args=None,\n",
    "               cc_name='genomic_cc',\n",
    "               fcn = \"initGene\",\n",
    "               transient_map=tmap, # optional, for private data\n",
    "               wait_for_event=True,\n",
    "                )\n",
    "print(response)\n",
    "\n",
    "\n",
    "gene1 = '{\"id\":17,\"name\":\"John\",\"population\":\"Dutch\",\"gene\":\"AFZE\",\"size\":150,\"age\":33,\"varient\":\"AFEE\",\"price\":33}'\n",
    "tmap = {'gene':gene1.encode()}\n",
    "\n",
    "response = await cli.chaincode_invoke(\n",
    "               requestor=org1_admin,\n",
    "               channel_name='healthcarechannel',\n",
    "               peers=['peer0.org1.example.com'],\n",
    "               args=None,\n",
    "               cc_name='genomic_cc',\n",
    "               fcn = \"initGene\",\n",
    "               transient_map=tmap, # optional, for private data\n",
    "               wait_for_event=True,\n",
    "               )\n",
    "print(response)"
   ]
  },
  {
   "cell_type": "markdown",
   "id": "respiratory-jenny",
   "metadata": {},
   "source": [
    "### Initialize couple of genomic information to database"
   ]
  },
  {
   "cell_type": "code",
   "execution_count": 56,
   "id": "federal-speed",
   "metadata": {},
   "outputs": [
    {
     "name": "stdout",
     "output_type": "stream",
     "text": [
      "\n",
      "Gene added to CouchDB: tmapA\n",
      "\n",
      "Gene added to CouchDB: tmapB\n",
      "\n",
      "Gene added to CouchDB: tmapC\n",
      "\n",
      "Gene added to CouchDB: tmapD\n",
      "\n",
      "Gene added to CouchDB: tmapE\n"
     ]
    }
   ],
   "source": [
    "gene_A = '{\"id\":21,\"name\":\"Donghoon\",\"population\":\"Korean\",\"gene\":\"MEC1\",\"size\":120,\"age\":38,\"varient\":\"MEC3\",\"price\":89}'\n",
    "gene_B = '{\"id\":22,\"name\":\"Shubham\",\"population\":\"Indian\",\"gene\":\"TEL1\",\"size\":140,\"age\":22,\"varient\":\"TEL5\",\"price\":55}'\n",
    "gene_C = '{\"id\":23,\"name\":\"Tanmay\",\"population\":\"American\",\"gene\":\"TELO\",\"size\":160,\"age\":23,\"varient\":\"ZELO\",\"price\":39}'\n",
    "gene_D = '{\"id\":24,\"name\":\"Munawar\",\"population\":\"German\",\"gene\":\"CDC13\",\"size\":115,\"age\":29,\"varient\":\"CDK1\",\"price\":41}'\n",
    "gene_E = '{\"id\":25,\"name\":\"Ghanendra\",\"population\":\"French\",\"gene\":\"RIF1\",\"size\":125,\"age\":26,\"varient\":\"RIF2\",\"price\":57}'\n",
    "\n",
    "tmapA = {'gene':gene_A.encode()}\n",
    "tmapB = {'gene':gene_B.encode()}\n",
    "tmapC = {'gene':gene_C.encode()}\n",
    "tmapD = {'gene':gene_D.encode()}\n",
    "tmapE = {'gene':gene_E.encode()}\n",
    "\n",
    "dict_tmaps = {'tmapA':tmapA,'tmapB':tmapB,'tmapC':tmapC,'tmapD':tmapD,'tmapE':tmapE}\n",
    "\n",
    "for tmap_index,tmap_value in dict_tmaps.items():\n",
    "\n",
    "    response = await cli.chaincode_invoke(\n",
    "                   requestor=org1_admin,\n",
    "                   channel_name='healthcarechannel',\n",
    "                   peers=['peer0.org1.example.com'],\n",
    "                   args=None,\n",
    "                   cc_name='genomic_cc',\n",
    "                   fcn = \"initGene\",\n",
    "                   transient_map=tmap_value, # optional, for private data\n",
    "                   wait_for_event=True,\n",
    "                    )\n",
    "    print(response)\n",
    "    print('Gene added to CouchDB:',tmap_index)\n"
   ]
  },
  {
   "cell_type": "markdown",
   "id": "brilliant-assurance",
   "metadata": {},
   "source": [
    "### Read a gene"
   ]
  },
  {
   "cell_type": "code",
   "execution_count": 63,
   "id": "clear-description",
   "metadata": {},
   "outputs": [
    {
     "name": "stdout",
     "output_type": "stream",
     "text": [
      "{\"docType\":\"gene\",\"id\":12,\"Name\":\"Dennis\",\"population\":\"American\",\"gene\":\"ATTCGGATAACGCG\",\"size\":320}\n"
     ]
    }
   ],
   "source": [
    "# Read a gene\n",
    "args = [\"Dennis\"]\n",
    "\n",
    "# The response must be genomic information\n",
    "response = await cli.chaincode_invoke(\n",
    "               requestor=org1_admin,\n",
    "               channel_name='healthcarechannel',\n",
    "               peers=['peer0.org1.example.com'],\n",
    "               args=args,\n",
    "               cc_name='genomic_cc',\n",
    "               fcn = \"readGene\",\n",
    "               transient_map=None, # optional, for private data\n",
    "               wait_for_event=True,\n",
    "               )\n",
    "print(response)"
   ]
  },
  {
   "cell_type": "code",
   "execution_count": 66,
   "id": "compact-devices",
   "metadata": {},
   "outputs": [
    {
     "name": "stdout",
     "output_type": "stream",
     "text": [
      "['Donghoon'] :  {\"Name\":\"Donghoon\",\"docType\":\"gene\",\"gene\":\"MEC1\",\"id\":21,\"population\":\"Korean\",\"size\":120}\n",
      "['Tanmay'] :  {\"Name\":\"Tanmay\",\"docType\":\"gene\",\"gene\":\"TELO\",\"id\":23,\"population\":\"American\",\"size\":160}\n",
      "['Shubham'] :  {\"Name\":\"Shubham\",\"docType\":\"gene\",\"gene\":\"TEL1\",\"id\":22,\"population\":\"Indian\",\"size\":140}\n",
      "['Munawar'] :  {\"Name\":\"Munawar\",\"docType\":\"gene\",\"gene\":\"CDC13\",\"id\":24,\"population\":\"German\",\"size\":115}\n",
      "['Ghanendra'] :  {\"Name\":\"Ghanendra\",\"docType\":\"gene\",\"gene\":\"RIF1\",\"id\":25,\"population\":\"French\",\"size\":125}\n"
     ]
    }
   ],
   "source": [
    "args = [[\"Donghoon\"],[\"Tanmay\"],[\"Shubham\"],[\"Munawar\"],[\"Ghanendra\"]]\n",
    "\n",
    "# Read a couple of genes\n",
    "for args_i in args:\n",
    "\n",
    "    # The response must be genomic information by a person's name\n",
    "    response = await cli.chaincode_invoke(\n",
    "                   requestor=org1_admin,\n",
    "                   channel_name='healthcarechannel',\n",
    "                   peers=['peer0.org1.example.com'],\n",
    "                   args=args_i,\n",
    "                   cc_name='genomic_cc',\n",
    "                   fcn = \"readGene\",\n",
    "                   transient_map=None, # optional, for private data\n",
    "                   wait_for_event=True,\n",
    "                   )\n",
    "    print('%s : '%args_i,response)"
   ]
  },
  {
   "cell_type": "markdown",
   "id": "capital-artist",
   "metadata": {},
   "source": [
    "### Read private details of a gene"
   ]
  },
  {
   "cell_type": "code",
   "execution_count": 15,
   "id": "running-conversion",
   "metadata": {},
   "outputs": [
    {
     "name": "stdout",
     "output_type": "stream",
     "text": [
      "{\"age\":27,\"docType\":\"genePrivateDetails\",\"name\":\"Dennis\",\"price\":91,\"varient\":\"APO3\"}\n"
     ]
    }
   ],
   "source": [
    "# Read private details of a gene\n",
    "args = [\"Dennis\"]\n",
    "\n",
    "# The response should be true if succeed\n",
    "response = await cli.chaincode_invoke(\n",
    "               requestor=org1_admin,\n",
    "               channel_name='healthcarechannel',\n",
    "               peers=['peer0.org1.example.com'],\n",
    "               args=args,\n",
    "               cc_name='genomic_cc',\n",
    "               fcn = \"readGenePrivateDetails\",\n",
    "               transient_map=None, # optional, for private data\n",
    "               wait_for_event=True, # for being sure chaincode invocation has been commited in the ledger\n",
    "               )\n",
    "print(response)"
   ]
  },
  {
   "cell_type": "markdown",
   "id": "occasional-windows",
   "metadata": {},
   "source": [
    "### Delete a gene"
   ]
  },
  {
   "cell_type": "code",
   "execution_count": 16,
   "id": "common-survey",
   "metadata": {},
   "outputs": [
    {
     "name": "stdout",
     "output_type": "stream",
     "text": [
      "\n"
     ]
    }
   ],
   "source": [
    "# Delete a gene\n",
    "args = [\"Dennis\"]\n",
    "\n",
    "tmap_gd = {\"gene_delete\":b'{\"name\":\"Dennis\"}'}\n",
    "\n",
    "# The response should be true if succeed\n",
    "response = await cli.chaincode_invoke(\n",
    "               requestor=org1_admin,\n",
    "               channel_name='healthcarechannel',\n",
    "               peers=['peer0.org1.example.com'],\n",
    "               args=None,\n",
    "               cc_name='genomic_cc',\n",
    "               fcn = \"delete\",\n",
    "               transient_map=tmap_gd, # optional, for private data\n",
    "               wait_for_event=True, # for being sure chaincode invocation has been commited in the ledger\n",
    "               )\n",
    "print(response)"
   ]
  },
  {
   "cell_type": "markdown",
   "id": "excessive-viewer",
   "metadata": {},
   "source": [
    "### Transfer Gene data"
   ]
  },
  {
   "cell_type": "code",
   "execution_count": 20,
   "id": "fancy-feature",
   "metadata": {},
   "outputs": [
    {
     "name": "stdout",
     "output_type": "stream",
     "text": [
      "\n"
     ]
    }
   ],
   "source": [
    "# Transfer Gene data\n",
    "# Gene Therapy\n",
    "tmap_gt = {\"gene_name\":b'{\"gene\":\"ATTCGGATAACGCG\",\"name\":\"Dennis\"}'}\n",
    "\n",
    "# The response should be true if succeed\n",
    "response = await cli.chaincode_invoke(\n",
    "               requestor=org1_admin,\n",
    "               channel_name='healthcarechannel',\n",
    "               peers=['peer0.org1.example.com'],\n",
    "               args=None,\n",
    "               cc_name='genomic_cc',\n",
    "               fcn = \"transferGene\",\n",
    "               transient_map=tmap_gt, # optional, for private data\n",
    "               wait_for_event=True, # for being sure chaincode invocation has been commited in the ledger\n",
    "               )\n",
    "print(response)"
   ]
  },
  {
   "cell_type": "markdown",
   "id": "registered-sapphire",
   "metadata": {},
   "source": [
    "### Get Genes data by Name"
   ]
  },
  {
   "cell_type": "code",
   "execution_count": 21,
   "id": "sound-artwork",
   "metadata": {},
   "outputs": [
    {
     "name": "stdout",
     "output_type": "stream",
     "text": [
      "[{\"Key\":\"Dennis\", \"Record\":{\"Name\":\"Dennis\",\"docType\":\"gene\",\"gene\":\"ATTCGGATAACGCG\",\"id\":12,\"population\":\"American\",\"size\":320}},{\"Key\":\"John\", \"Record\":{\"Name\":\"John\",\"docType\":\"gene\",\"gene\":\"AFZE\",\"id\":17,\"population\":\"Dutch\",\"size\":150}}]\n"
     ]
    }
   ],
   "source": [
    "# Get Genes data by Name\n",
    "\n",
    "#name\":\"Dennis\",\"age\":27,\"varient\":\"APO3\",\"price\":91}\n",
    "args = [\"A\",\"Z\"]\n",
    "\n",
    "# The response should be true if succeed\n",
    "response = await cli.chaincode_invoke(\n",
    "               requestor=org1_admin,\n",
    "               channel_name='healthcarechannel',\n",
    "               peers=['peer0.org1.example.com'],\n",
    "               args=args,\n",
    "               cc_name='genomic_cc',\n",
    "               fcn = \"getGenesByRange\",\n",
    "               transient_map=None, # optional, for private data\n",
    "               wait_for_event=True, # for being sure chaincode invocation has been commited in the ledger\n",
    "               )\n",
    "print(response)"
   ]
  },
  {
   "cell_type": "markdown",
   "id": "yellow-scene",
   "metadata": {},
   "source": [
    "### Query LongetivityMap data By Gene"
   ]
  },
  {
   "cell_type": "code",
   "execution_count": 25,
   "id": "protected-render",
   "metadata": {},
   "outputs": [
    {
     "name": "stdout",
     "output_type": "stream",
     "text": [
      "[{\"Key\":\"Dennis\", \"Record\":{\"Name\":\"Dennis\",\"docType\":\"gene\",\"gene\":\"ATTCGGATAACGCG\",\"id\":12,\"population\":\"American\",\"size\":320}}]\n"
     ]
    }
   ],
   "source": [
    "# Query Entire data By Gene\n",
    "\n",
    "#Query all the data stores as Key and Record\n",
    "#args = ['{\"selector\":{}}']\n",
    "\n",
    "args = ['{\"selector\":{\"gene\":\"ATTCGGATAACGCG\"}}']\n",
    "\n",
    "# The response should be true if succeed\n",
    "response = await cli.chaincode_invoke(\n",
    "               requestor=org1_admin,\n",
    "               channel_name='healthcarechannel',\n",
    "               peers=['peer0.org1.example.com'],\n",
    "               args=args,\n",
    "               cc_name='genomic_cc',\n",
    "               fcn = \"queryLongetivityMapByGene\",\n",
    "               transient_map=None, # optional, for private data\n",
    "               wait_for_event=True, # for being sure chaincode invocation has been commited in the ledger\n",
    "               )\n",
    "print(response)"
   ]
  }
 ],
 "metadata": {
  "kernelspec": {
   "display_name": "Python 3",
   "language": "python",
   "name": "python3"
  },
  "language_info": {
   "codemirror_mode": {
    "name": "ipython",
    "version": 3
   },
   "file_extension": ".py",
   "mimetype": "text/x-python",
   "name": "python",
   "nbconvert_exporter": "python",
   "pygments_lexer": "ipython3",
   "version": "3.8.5"
  }
 },
 "nbformat": 4,
 "nbformat_minor": 5
}
